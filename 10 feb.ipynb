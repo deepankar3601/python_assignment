{
 "cells": [
  {
   "cell_type": "code",
   "execution_count": 2,
   "id": "b1b6aae1-2926-418c-95fb-fff6949afb1a",
   "metadata": {},
   "outputs": [],
   "source": [
    "#answer 1"
   ]
  },
  {
   "cell_type": "code",
   "execution_count": 3,
   "id": "4eada1f9-f079-4b44-bb02-149f99a65d40",
   "metadata": {},
   "outputs": [],
   "source": [
    "#In Python, we use the open() method to open files.\n",
    "#There are 6 access modes in python.\n",
    "# Read Only ('r') \n",
    "# Read and Write ('r+')\n",
    "# Write Only ('w') \n",
    "# Write and Read ('w+')\n",
    "# Append Only ('a')\n",
    "\n",
    "\n",
    "# Read Only (‘r’) : Open text file for reading. The handle is positioned at the beginning of the file. If the file does not exists, raises the I/O error. This is also the default mode in which a file is opened.\n",
    "# Read and Write (‘r+’): Open the file for reading and writing. The handle is positioned at the beginning of the file. Raises I/O error if the file does not exist.\n",
    "# Write Only (‘w’) : Open the file for writing. For the existing files, the data is truncated and over-written. The handle is positioned at the beginning of the file. Creates the file if the file does not exist.\n",
    "# Write and Read (‘w+’) : Open the file for reading and writing. For an existing file, data is truncated and over-written. The handle is positioned at the beginning of the file.\n",
    "# Append Only (‘a’): Open the file for writing. The file is created if it does not exist. The handle is positioned at the end of the file. The data being written will be inserted at the end, after the existing data.\n",
    "# Append and Read (‘a+’) : Open the file for reading and writing. The file is created if it does not exist. The handle is positioned at the end of the file. The data being written will be inserted at the end, after the existing data.\n"
   ]
  },
  {
   "cell_type": "code",
   "execution_count": 4,
   "id": "7a1c2b12-b428-4301-9adf-bce9b4e451e1",
   "metadata": {},
   "outputs": [],
   "source": [
    "#answer2\n"
   ]
  },
  {
   "cell_type": "code",
   "execution_count": 5,
   "id": "5f454a24-0df2-4743-b26a-a5ebc51ef9be",
   "metadata": {},
   "outputs": [],
   "source": [
    "# Python file method close() closes the opened file. A closed file cannot be read or written any more. Any operation, which requires that the file be opened will raise a ValueError after the file has been closed. Calling close() more than once is allowed.\n",
    "\n",
    "# Python automatically closes a file when the reference object of a file is reassigned to another file. It is a good practice to use the close() method to close a file."
   ]
  },
  {
   "cell_type": "code",
   "execution_count": 6,
   "id": "a858fa5c-f1ab-486a-b3f1-8663c39b4ec1",
   "metadata": {},
   "outputs": [],
   "source": [
    "#it is important to close a file in python Because files are limited resources managed by the operating system, making sure files are closed after use will protect against hard-to-debug issues like running out of file handles or experiencing corrupted data. The best defense is always to open files with a context manager."
   ]
  },
  {
   "cell_type": "code",
   "execution_count": 7,
   "id": "5cbeca10-b40b-481d-ac63-5b6aa4453256",
   "metadata": {},
   "outputs": [],
   "source": [
    "#answer3"
   ]
  },
  {
   "cell_type": "code",
   "execution_count": 3,
   "id": "e4894547-1481-4507-b00d-4f240039c37b",
   "metadata": {},
   "outputs": [],
   "source": [
    "file = open(\"test.txt\",\"w\" )"
   ]
  },
  {
   "cell_type": "code",
   "execution_count": 4,
   "id": "eebaabc4-5d1f-4001-b367-741cac6accba",
   "metadata": {},
   "outputs": [
    {
     "data": {
      "text/plain": [
       "33"
      ]
     },
     "execution_count": 4,
     "metadata": {},
     "output_type": "execute_result"
    }
   ],
   "source": [
    "file.write(\"i want to become a data scientist\")"
   ]
  },
  {
   "cell_type": "code",
   "execution_count": 5,
   "id": "b8612a45-5d85-4c92-914c-4dada4410a61",
   "metadata": {},
   "outputs": [],
   "source": [
    "file.close()"
   ]
  },
  {
   "cell_type": "code",
   "execution_count": 7,
   "id": "8eb5be26-502f-403d-a454-68ed3a9d11f9",
   "metadata": {},
   "outputs": [],
   "source": [
    "file = open(\"test.txt\" , \"r\")"
   ]
  },
  {
   "cell_type": "code",
   "execution_count": 8,
   "id": "e4da0e00-36c1-49b6-903b-d4bbf9a8fcef",
   "metadata": {},
   "outputs": [
    {
     "data": {
      "text/plain": [
       "'i want to become a data scientist'"
      ]
     },
     "execution_count": 8,
     "metadata": {},
     "output_type": "execute_result"
    }
   ],
   "source": [
    "file.read()"
   ]
  },
  {
   "cell_type": "code",
   "execution_count": 9,
   "id": "1bd9a72c-d231-48e9-8564-32c4b31aaa26",
   "metadata": {},
   "outputs": [],
   "source": [
    "#answer4"
   ]
  },
  {
   "cell_type": "code",
   "execution_count": 15,
   "id": "3055e977-4339-4952-acb1-81ff457c125f",
   "metadata": {},
   "outputs": [],
   "source": [
    "#read = The read() method returns the specified number of bytes from the file. Default is -1 which means the whole file.\n",
    "#readline = The readline() method returns one line from the file. You can also specified how many bytes from the line to return, by using the size parameter.\n",
    "#readlines = The readlines() method returns a list containing each line in the file as a list item. Use the hint parameter to limit the number of lines returned. If the total number of bytes returned exceeds the specified number, no more lines are returned."
   ]
  },
  {
   "cell_type": "code",
   "execution_count": 11,
   "id": "9b735149-e680-44d6-8813-8d3f4516e215",
   "metadata": {},
   "outputs": [],
   "source": [
    "#lets create a new file first\n",
    "\n",
    "file1 = open(\"answers.txt\" , \"w\")"
   ]
  },
  {
   "cell_type": "code",
   "execution_count": 16,
   "id": "589403cb-cfc2-4771-b98b-d6da071dfe9f",
   "metadata": {},
   "outputs": [
    {
     "data": {
      "text/plain": [
       "257"
      ]
     },
     "execution_count": 16,
     "metadata": {},
     "output_type": "execute_result"
    }
   ],
   "source": [
    "file1.write(\"The read() method returns the specified number of bytes from the file. Default is -1 which means the whole file.The readline() method returns one line from the file. You can also specified how many bytes from the line to return, by using the size parameter.\")\n"
   ]
  },
  {
   "cell_type": "code",
   "execution_count": 29,
   "id": "c0c6064e-e6bb-45aa-8255-8acbaff0183f",
   "metadata": {},
   "outputs": [],
   "source": [
    "file1.close()"
   ]
  },
  {
   "cell_type": "code",
   "execution_count": 30,
   "id": "2ff834ef-a6b4-4658-9db5-ec9a55bceb94",
   "metadata": {},
   "outputs": [],
   "source": [
    "file1 = open(\"answers.txt\", \"r\")"
   ]
  },
  {
   "cell_type": "code",
   "execution_count": 51,
   "id": "37cb6825-387f-47c3-a4d2-d3bfffbade27",
   "metadata": {},
   "outputs": [
    {
     "data": {
      "text/plain": [
       "'The read() method returns the specified number of bytes from the file. Default is -1 which means the whole file.The read() method returns the specified number of bytes from the file. Default is -1 which means the whole file.The readline() method returns one line from the file. You can also specified how many bytes from the line to return, by using the size parameter.The read() method returns the specified number of bytes from the file. Default is -1 which means the whole file.The readline() method returns one line from the file. You can also specified how many bytes from the line to return, by using the size parameter.'"
      ]
     },
     "execution_count": 51,
     "metadata": {},
     "output_type": "execute_result"
    }
   ],
   "source": [
    "#read\n",
    "\n",
    "file1.read()"
   ]
  },
  {
   "cell_type": "code",
   "execution_count": 58,
   "id": "a9aec3e9-c3af-494e-a4f0-64a8bf055ce3",
   "metadata": {},
   "outputs": [
    {
     "data": {
      "text/plain": [
       "'The read() method returns the specified number of bytes from the file. Default is -1 which means the whole file.The read() method returns the specified number of bytes from the file. Default is -1 which means the whole file.The readline() method returns one line from the file. You can also specified how many bytes from the line to return, by using the size parameter.The read() method returns the specified number of bytes from the file. Default is -1 which means the whole file.The readline() method returns one line from the file. You can also specified how many bytes from the line to return, by using the size parameter.'"
      ]
     },
     "execution_count": 58,
     "metadata": {},
     "output_type": "execute_result"
    }
   ],
   "source": [
    "#readline\n",
    "\n",
    "file1.readline()"
   ]
  },
  {
   "cell_type": "code",
   "execution_count": 55,
   "id": "ce219d0a-a01c-4434-bb9f-9c836bd4ad42",
   "metadata": {},
   "outputs": [
    {
     "data": {
      "text/plain": [
       "['The read() method returns the specified number of bytes from the file. Default is -1 which means the whole file.The read() method returns the specified number of bytes from the file. Default is -1 which means the whole file.The readline() method returns one line from the file. You can also specified how many bytes from the line to return, by using the size parameter.The read() method returns the specified number of bytes from the file. Default is -1 which means the whole file.The readline() method returns one line from the file. You can also specified how many bytes from the line to return, by using the size parameter.']"
      ]
     },
     "execution_count": 55,
     "metadata": {},
     "output_type": "execute_result"
    }
   ],
   "source": [
    "#readlines\n",
    "\n",
    "file1.readlines()"
   ]
  },
  {
   "cell_type": "code",
   "execution_count": 57,
   "id": "39e75304-92e8-44ba-9dd2-8170e5f6e5b2",
   "metadata": {},
   "outputs": [
    {
     "data": {
      "text/plain": [
       "0"
      ]
     },
     "execution_count": 57,
     "metadata": {},
     "output_type": "execute_result"
    }
   ],
   "source": [
    "file1.seek(0)\n",
    "\n",
    "#seek is used to put the index back."
   ]
  },
  {
   "cell_type": "code",
   "execution_count": 59,
   "id": "1c8f2652-d578-4f6e-901c-9767946364c9",
   "metadata": {},
   "outputs": [],
   "source": [
    "#answer5"
   ]
  },
  {
   "cell_type": "code",
   "execution_count": 61,
   "id": "970d1edd-5e94-4209-ba6c-3547461f88b2",
   "metadata": {},
   "outputs": [],
   "source": [
    "#The with statement works with the open() function to open a file. Unlike open() where you have to close the file with the close() method, the with statement closes the file for you without you telling it to."
   ]
  },
  {
   "cell_type": "code",
   "execution_count": 62,
   "id": "d37773bd-3461-4c6e-a892-e10e60321929",
   "metadata": {},
   "outputs": [],
   "source": [
    "#Using with means that the file will be closed as soon as you leave the block. This is beneficial because closing a file is something that can easily be forgotten and ties up resources that you no longer need."
   ]
  },
  {
   "cell_type": "code",
   "execution_count": 63,
   "id": "7961c2f2-93e4-447a-b017-73bce1faf64c",
   "metadata": {},
   "outputs": [],
   "source": [
    "#answer6"
   ]
  },
  {
   "cell_type": "code",
   "execution_count": 64,
   "id": "00d9dc32-7721-4cf4-8ee1-8c62e777eb64",
   "metadata": {},
   "outputs": [],
   "source": [
    "#write function\n",
    "#The write() function will write the content in the file without adding any extra characters.\n",
    "\n"
   ]
  },
  {
   "cell_type": "code",
   "execution_count": 65,
   "id": "b65d874d-ce29-4f53-960a-d3348ce9e323",
   "metadata": {},
   "outputs": [],
   "source": [
    "#writelines function\n",
    "#This function writes the content of a list to a file."
   ]
  },
  {
   "cell_type": "code",
   "execution_count": null,
   "id": "3eb1bd12-31ff-4f22-b8ea-59f822501eed",
   "metadata": {},
   "outputs": [],
   "source": []
  },
  {
   "cell_type": "code",
   "execution_count": null,
   "id": "db468fa7-304a-4225-b184-319cd7d86dcc",
   "metadata": {},
   "outputs": [],
   "source": []
  }
 ],
 "metadata": {
  "kernelspec": {
   "display_name": "Python 3 (ipykernel)",
   "language": "python",
   "name": "python3"
  },
  "language_info": {
   "codemirror_mode": {
    "name": "ipython",
    "version": 3
   },
   "file_extension": ".py",
   "mimetype": "text/x-python",
   "name": "python",
   "nbconvert_exporter": "python",
   "pygments_lexer": "ipython3",
   "version": "3.10.8"
  }
 },
 "nbformat": 4,
 "nbformat_minor": 5
}
