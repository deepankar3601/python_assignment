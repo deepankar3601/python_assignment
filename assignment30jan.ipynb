{
 "cells": [
  {
   "cell_type": "code",
   "execution_count": 1,
   "id": "b753b7bc-838e-443c-92db-e3e0dc85c94c",
   "metadata": {},
   "outputs": [
    {
     "name": "stdin",
     "output_type": "stream",
     "text": [
      "enter your marks 80\n"
     ]
    },
    {
     "name": "stdout",
     "output_type": "stream",
     "text": [
      "grade b\n"
     ]
    }
   ],
   "source": [
    "\n",
    "marks=int(input(\"enter your marks\"))\n",
    "if marks  >= 90:\n",
    "    print(\"grade a\")\n",
    "elif marks  >= 80 and marks <= 90:\n",
    "    print(\"grade b\")\n",
    "elif marks  >= 60 and marks <= 80:\n",
    "    print(\"grade c\")\n",
    "else:\n",
    "    print(\"grade d\")"
   ]
  },
  {
   "cell_type": "code",
   "execution_count": 2,
   "id": "235d0408-565d-4a13-a7b3-c54181f11a1a",
   "metadata": {},
   "outputs": [
    {
     "name": "stdin",
     "output_type": "stream",
     "text": [
      "enter costprice 100000\n"
     ]
    },
    {
     "name": "stdout",
     "output_type": "stream",
     "text": [
      "15 %\n"
     ]
    }
   ],
   "source": [
    "costprice=int(input(\"enter costprice\"))\n",
    "if costprice >= 100000:\n",
    "    print(\"15 %\")\n",
    "elif costprice >= 50000 and costprice <= 100000:\n",
    "    print(\"10 %\")\n",
    "else:\n",
    "    print(\"5 %\")"
   ]
  },
  {
   "cell_type": "code",
   "execution_count": 65,
   "id": "beca5f0c-5757-432b-a421-477827a46554",
   "metadata": {},
   "outputs": [
    {
     "name": "stdin",
     "output_type": "stream",
     "text": [
      "enter city delhi\n"
     ]
    },
    {
     "name": "stdout",
     "output_type": "stream",
     "text": [
      "red fort\n"
     ]
    }
   ],
   "source": [
    "city=input(\"enter city\")\n",
    "if city == \"delhi\":\n",
    "    print(\"red fort\")\n",
    "elif city == \"agra\":\n",
    "    print(\"taj mahal\")\n",
    "elif city == \"jaipur\":\n",
    "    print(\"jai mahal\")\n",
    "else:\n",
    "    print(\"enter valid city\")"
   ]
  },
  {
   "cell_type": "code",
   "execution_count": 68,
   "id": "5a8846c8-9194-4ffb-9fcb-ad6211c8c33a",
   "metadata": {},
   "outputs": [
    {
     "name": "stdin",
     "output_type": "stream",
     "text": [
      "enter your number 4\n"
     ]
    },
    {
     "name": "stdout",
     "output_type": "stream",
     "text": [
      "The number can be divided by 3 is 1 times before it is less than or equal to 10.\n"
     ]
    }
   ],
   "source": [
    "number = int(input(\"enter your number\"))\n",
    "count=0\n",
    "number>10\n",
    "number=number/3\n",
    "count+=1\n",
    "print(\"The number can be divided by 3 is\", count, \"times before it is less than or equal to 10.\")\n"
   ]
  },
  {
   "cell_type": "code",
   "execution_count": null,
   "id": "12934fd6-452d-4b13-9a3e-b61825d2df17",
   "metadata": {},
   "outputs": [],
   "source": [
    "answer 5 = The while Loop\n",
    "With the while loop we can execute a set of statements as long as a condition is true.\n",
    "The while loop requires relevant variables to be ready, in this example we need to define an indexing variable, i, which we set to 1.\n",
    "With the break statement we can stop the loop even if the while condition is true.\n",
    "\n",
    "syntax of while\n",
    "while condition:\n",
    "      Code to be executed"
   ]
  },
  {
   "cell_type": "code",
   "execution_count": 2,
   "id": "680582cb-e8f5-4d29-b752-73690637c822",
   "metadata": {},
   "outputs": [
    {
     "name": "stdout",
     "output_type": "stream",
     "text": [
      "1\n",
      "2\n",
      "3\n",
      "4\n",
      "5\n"
     ]
    }
   ],
   "source": [
    "#example of while loop\n",
    "\n",
    "#program to display numbers from 1 to 5\n",
    "\n",
    "# initialize the variable\n",
    "i = 1\n",
    "n = 5\n",
    "\n",
    "# while loop from i = 1 to 5\n",
    "while i <= n:\n",
    "    print(i)\n",
    "    i = i + 1"
   ]
  },
  {
   "cell_type": "code",
   "execution_count": null,
   "id": "c0772317-5a1d-4db6-b94d-9a76f062fda4",
   "metadata": {},
   "outputs": [],
   "source": [
    "#variable declaration\n",
    "upperBound=10\n",
    "lowerBound=1\n",
    "#while loop\n",
    "while upperBound>=lowerBound:\n",
    "    #print upperBound\n",
    "    print(upperBound)\n",
    "    #decrement upperBound by 1\n",
    "    upperBound-=1\n"
   ]
  },
  {
   "cell_type": "code",
   "execution_count": null,
   "id": "0f8eb15c-9deb-4274-8837-b12714ac4604",
   "metadata": {},
   "outputs": [],
   "source": []
  }
 ],
 "metadata": {
  "kernelspec": {
   "display_name": "Python 3 (ipykernel)",
   "language": "python",
   "name": "python3"
  },
  "language_info": {
   "codemirror_mode": {
    "name": "ipython",
    "version": 3
   },
   "file_extension": ".py",
   "mimetype": "text/x-python",
   "name": "python",
   "nbconvert_exporter": "python",
   "pygments_lexer": "ipython3",
   "version": "3.10.8"
  }
 },
 "nbformat": 4,
 "nbformat_minor": 5
}
