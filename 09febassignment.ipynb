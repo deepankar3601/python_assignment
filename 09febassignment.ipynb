{
 "cells": [
  {
   "cell_type": "code",
   "execution_count": 1,
   "id": "3c838f5d-58cc-4775-afc8-e950f8555489",
   "metadata": {},
   "outputs": [],
   "source": [
    "#answer1"
   ]
  },
  {
   "cell_type": "code",
   "execution_count": 23,
   "id": "427618e4-897d-47d7-9de5-88efa1bceab7",
   "metadata": {},
   "outputs": [],
   "source": [
    "class vehicle:\n",
    "    \n",
    "    def __init__(self,name,average,max_speed):\n",
    "        \n",
    "        self.name = name\n",
    "        self.average = average\n",
    "        self.max_speed = max_speed\n",
    "\n",
    "car = vehicle(\"BMW\",200,20)\n",
    "print(f\"Name of the car :{car.name_of_vehicle}\")\n",
    "print(f\"car speed :{car.max_speed}\")\n",
    "print(f\"avarage of the car :{car.average_of_vehicle}\")       \n",
    "        \n",
    "    def return_details_of_vehicle(self):\n",
    "        return self.name,self.average,self.max_speed"
   ]
  },
  {
   "cell_type": "code",
   "execution_count": 24,
   "id": "04dfa783-987d-4d2c-8254-c53c85d19fa7",
   "metadata": {},
   "outputs": [],
   "source": [
    "vehicle1 = vehicle(\"audi\",20,100)"
   ]
  },
  {
   "cell_type": "code",
   "execution_count": 28,
   "id": "e4c69c32-5adb-4606-b017-5b97102feda0",
   "metadata": {},
   "outputs": [
    {
     "data": {
      "text/plain": [
       "('audi', 20, 100)"
      ]
     },
     "execution_count": 28,
     "metadata": {},
     "output_type": "execute_result"
    }
   ],
   "source": [
    "vehicle1.return_details_of_vehicle()"
   ]
  },
  {
   "cell_type": "code",
   "execution_count": 29,
   "id": "cf1bcc1a-9266-428c-8ef7-cb9d2ab856ea",
   "metadata": {},
   "outputs": [],
   "source": [
    "#answer2"
   ]
  },
  {
   "cell_type": "code",
   "execution_count": 52,
   "id": "be499bb1-7f71-4f23-917c-33ec3eed0c88",
   "metadata": {},
   "outputs": [],
   "source": [
    "class car(vehicle):\n",
    "    \n",
    "    def seating_capacity(self , seating_capacity):\n",
    "        self.capacity = seating_capacity\n",
    "        \n",
    "        return self.seating_capacity,self.name\n",
    "        "
   ]
  },
  {
   "cell_type": "code",
   "execution_count": 55,
   "id": "99b82610-bc64-4397-bdf8-373af86f0ace",
   "metadata": {},
   "outputs": [
    {
     "data": {
      "text/plain": [
       "(<bound method car.seating_capacity of <__main__.car object at 0x7f78b82ad600>>,\n",
       " 'bmw')"
      ]
     },
     "execution_count": 88,
     "metadata": {},
     "output_type": "execute_result"
    }
   ],
   "source": [
    "vehicle2 = car(\"bmw\",18,110)\n",
    "vehicle2.seating_capacity(2)"
   ]
  },
  {
   "cell_type": "code",
   "execution_count": 58,
   "id": "ea1d1d9b-9b23-49b8-a4c0-c77ebc318677",
   "metadata": {},
   "outputs": [],
   "source": [
    "#answer3"
   ]
  },
  {
   "cell_type": "code",
   "execution_count": 59,
   "id": "177ea819-87f7-4263-b915-20ce1199679a",
   "metadata": {},
   "outputs": [],
   "source": [
    "#Multiple Inheritance \n",
    "#When a class is derived from more than one base class it is called multiple Inheritance. The derived class inherits all the features of the base case.\n",
    " \n"
   ]
  },
  {
   "cell_type": "code",
   "execution_count": 60,
   "id": "d6b0dd07-b454-47e7-9e85-8d1c11f322f7",
   "metadata": {},
   "outputs": [],
   "source": [
    "class class1:\n",
    "    \n",
    "    def test_class1(self):\n",
    "        return \"this is class 1\"\n",
    "class class2:\n",
    "    \n",
    "    def test_class2(self):\n",
    "        return \"this is class 2\"   \n",
    "class class3(class1,class2):\n",
    "    pass        \n",
    "        "
   ]
  },
  {
   "cell_type": "code",
   "execution_count": 62,
   "id": "42e8ac66-a795-4b8e-b964-8580ffa165aa",
   "metadata": {},
   "outputs": [],
   "source": [
    "class3obj = class3()"
   ]
  },
  {
   "cell_type": "code",
   "execution_count": 63,
   "id": "bc1105f9-e732-47de-9f4c-783dd021c1b4",
   "metadata": {},
   "outputs": [
    {
     "data": {
      "text/plain": [
       "'this is class 1'"
      ]
     },
     "execution_count": 63,
     "metadata": {},
     "output_type": "execute_result"
    }
   ],
   "source": [
    "class3obj.test_class1()"
   ]
  },
  {
   "cell_type": "code",
   "execution_count": 64,
   "id": "96389ae6-b8e3-4d91-8e16-be5165487899",
   "metadata": {},
   "outputs": [
    {
     "data": {
      "text/plain": [
       "'this is class 2'"
      ]
     },
     "execution_count": 64,
     "metadata": {},
     "output_type": "execute_result"
    }
   ],
   "source": [
    "class3obj.test_class2()"
   ]
  },
  {
   "cell_type": "code",
   "execution_count": 65,
   "id": "9db84653-fa2d-4647-8dcd-1ac0486fbf9f",
   "metadata": {},
   "outputs": [],
   "source": [
    "#answer4"
   ]
  },
  {
   "cell_type": "code",
   "execution_count": 79,
   "id": "cc3fe287-f771-4b14-85bf-cf24dd1eb739",
   "metadata": {},
   "outputs": [],
   "source": [
    "# Getters: These are the methods used in Object-Oriented Programming (OOPS) which helps to access the private attributes from a class.\n",
    "# Setters: These are the methods used in OOPS feature which helps to set the value to private attributes in a class."
   ]
  },
  {
   "cell_type": "code",
   "execution_count": 89,
   "id": "36bf5fd8-1b60-4658-b624-a28f163135e3",
   "metadata": {},
   "outputs": [
    {
     "name": "stdout",
     "output_type": "stream",
     "text": [
      "karan chaudhary\n",
      "karan chaudhary\n"
     ]
    }
   ],
   "source": [
    "class games:\n",
    "    def __init__(self, name): \n",
    "        self._name = name\n",
    "    \n",
    "    def get_name(self):\n",
    "        return self._name\n",
    "    \n",
    "    def set_name(self):\n",
    "        return self._name\n",
    "    \n",
    "    \n",
    "games = games(\"deepankar chaudhary\")\n",
    "print(person.get_name()) \n",
    "person.set_name(\"karan chaudhary\")\n",
    "print(person.get_name()) \n",
    "    \n",
    "    "
   ]
  },
  {
   "cell_type": "code",
   "execution_count": 90,
   "id": "0c52a061-285e-4337-8c25-fbeef09fff24",
   "metadata": {},
   "outputs": [],
   "source": [
    "#answer 5"
   ]
  },
  {
   "cell_type": "code",
   "execution_count": 92,
   "id": "9ed72d6b-72ea-4f51-bda7-96fb8535edab",
   "metadata": {},
   "outputs": [],
   "source": [
    "#Method overriding is a feature of object-oriented programming languages where the subclass or child class can provide the program with specific characteristics or a specific implementation process of data provided that are already defined in the parent class or superclass."
   ]
  },
  {
   "cell_type": "code",
   "execution_count": null,
   "id": "22ea593c-9365-47b9-b02b-e416ef986471",
   "metadata": {},
   "outputs": [],
   "source": []
  }
 ],
 "metadata": {
  "kernelspec": {
   "display_name": "Python 3 (ipykernel)",
   "language": "python",
   "name": "python3"
  },
  "language_info": {
   "codemirror_mode": {
    "name": "ipython",
    "version": 3
   },
   "file_extension": ".py",
   "mimetype": "text/x-python",
   "name": "python",
   "nbconvert_exporter": "python",
   "pygments_lexer": "ipython3",
   "version": "3.10.8"
  }
 },
 "nbformat": 4,
 "nbformat_minor": 5
}
