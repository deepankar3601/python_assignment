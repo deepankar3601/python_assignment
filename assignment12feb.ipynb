{
 "cells": [
  {
   "cell_type": "code",
   "execution_count": 1,
   "id": "86eb1e37-426c-4de0-8b53-1ffd1fe0b5d9",
   "metadata": {},
   "outputs": [],
   "source": [
    "#answer1"
   ]
  },
  {
   "cell_type": "code",
   "execution_count": 2,
   "id": "6ed46dea-deff-4a8a-8092-b736d22f5517",
   "metadata": {},
   "outputs": [],
   "source": [
    "#An exception is an event, which occurs during the execution of a program that disrupts the normal flow of the program's instructions. In general, when a Python script encounters a situation that it cannot cope with, it raises an exception. An exception is a Python object that represents an error."
   ]
  },
  {
   "cell_type": "code",
   "execution_count": 3,
   "id": "fd83cb79-877f-422a-9549-b159cb526bdc",
   "metadata": {},
   "outputs": [],
   "source": [
    "#errors and exception difference\n",
    "#Errors cannot be handled, while Python exceptions can be handled at the run time. An error can be a syntax (parsing) error, while there can be many types of exceptions that could occur during the execution and are not unconditionally inoperable."
   ]
  },
  {
   "cell_type": "code",
   "execution_count": 4,
   "id": "1873c825-18a7-4c19-af0d-399af4d9c8a2",
   "metadata": {},
   "outputs": [],
   "source": [
    "#answer2"
   ]
  },
  {
   "cell_type": "code",
   "execution_count": 5,
   "id": "da86af1d-15f0-41fb-bc9c-338397215633",
   "metadata": {},
   "outputs": [],
   "source": [
    "#If an exception occurs during execution of the try clause, the exception may be handled by an except clause. If the exception is not handled by an except clause, the exception is re-raised after the finally clause has been executed."
   ]
  },
  {
   "cell_type": "code",
   "execution_count": 8,
   "id": "e57ca759-92a6-4bea-ae1a-71d372eb1829",
   "metadata": {},
   "outputs": [
    {
     "name": "stdout",
     "output_type": "stream",
     "text": [
      "exception not handled\n"
     ]
    },
    {
     "ename": "ZeroDivisionError",
     "evalue": "division by zero",
     "output_type": "error",
     "traceback": [
      "\u001b[0;31m---------------------------------------------------------------------------\u001b[0m",
      "\u001b[0;31mZeroDivisionError\u001b[0m                         Traceback (most recent call last)",
      "Cell \u001b[0;32mIn[8], line 6\u001b[0m\n\u001b[1;32m      4\u001b[0m     a \u001b[38;5;241m=\u001b[39m \u001b[38;5;241m5\u001b[39m\n\u001b[1;32m      5\u001b[0m     b\u001b[38;5;241m=\u001b[39m \u001b[38;5;241m0\u001b[39m\n\u001b[0;32m----> 6\u001b[0m     \u001b[38;5;28mprint\u001b[39m(\u001b[43ma\u001b[49m\u001b[38;5;241;43m/\u001b[39;49m\u001b[43mb\u001b[49m)\n\u001b[1;32m      7\u001b[0m \u001b[38;5;28;01mfinally\u001b[39;00m:\n\u001b[1;32m      8\u001b[0m     \u001b[38;5;28mprint\u001b[39m(\u001b[38;5;124m'\u001b[39m\u001b[38;5;124mexception not handled\u001b[39m\u001b[38;5;124m'\u001b[39m)\n",
      "\u001b[0;31mZeroDivisionError\u001b[0m: division by zero"
     ]
    }
   ],
   "source": [
    "#example\n",
    "\n",
    "try:\n",
    "    a = 5\n",
    "    b= 0\n",
    "    print(a/b)\n",
    "finally:\n",
    "    print('exception not handled')"
   ]
  },
  {
   "cell_type": "code",
   "execution_count": 9,
   "id": "0d0a01b6-0aa7-48a0-bec4-85584cad0a14",
   "metadata": {},
   "outputs": [],
   "source": [
    "#answer3"
   ]
  },
  {
   "cell_type": "code",
   "execution_count": 10,
   "id": "f6b54046-e47f-4099-9809-339b00093444",
   "metadata": {},
   "outputs": [],
   "source": [
    "#The try and except block in Python is used to catch and handle exceptions. Python executes code following the try statement as a “normal” part of the program. The code that follows the except statement is the program's response to any exceptions in the preceding try clause."
   ]
  },
  {
   "cell_type": "code",
   "execution_count": 14,
   "id": "fa576c83-e4d9-43d0-a539-3151774cc668",
   "metadata": {},
   "outputs": [
    {
     "name": "stdout",
     "output_type": "stream",
     "text": [
      "the division was not executed\n"
     ]
    }
   ],
   "source": [
    "try:\n",
    "    a=5\n",
    "    b=0\n",
    "    print(a/b)\n",
    "except:\n",
    "    \n",
    "    print(\"the division was not executed\")"
   ]
  },
  {
   "cell_type": "code",
   "execution_count": 15,
   "id": "2d74ce7a-a4e3-4712-98ba-5c78ee6d7226",
   "metadata": {},
   "outputs": [],
   "source": [
    "#answer4\n"
   ]
  },
  {
   "cell_type": "code",
   "execution_count": 16,
   "id": "eefdf0dc-fac7-41e3-9364-03b210f9df95",
   "metadata": {},
   "outputs": [],
   "source": [
    "#try and else\n",
    "#if try block will be executed than else block will be executed too"
   ]
  },
  {
   "cell_type": "code",
   "execution_count": 22,
   "id": "263ac22c-e913-444e-8afa-ebf31f8cb0f9",
   "metadata": {},
   "outputs": [
    {
     "name": "stdout",
     "output_type": "stream",
     "text": [
      "this will execute if the try block works\n"
     ]
    }
   ],
   "source": [
    "#example of try and else\n",
    "\n",
    "try:\n",
    "    f = open(\"test.txt\" , \"w\")\n",
    "    f.write(\"here is some text\")\n",
    "except Exception as e:\n",
    "    print(\"file not found\")\n",
    "else:\n",
    "    f.close\n",
    "    print(\"this will execute if the try block works\")\n",
    "    "
   ]
  },
  {
   "cell_type": "code",
   "execution_count": 23,
   "id": "16595e0b-faa6-4606-b662-60fa819c6608",
   "metadata": {},
   "outputs": [],
   "source": [
    "#in the upper example the try and else block worked"
   ]
  },
  {
   "cell_type": "code",
   "execution_count": 29,
   "id": "ba3d6461-e907-4e18-b652-501a24f2ceac",
   "metadata": {},
   "outputs": [],
   "source": [
    "#example of finally\n",
    "#finally will execute itself in any condition"
   ]
  },
  {
   "cell_type": "code",
   "execution_count": 30,
   "id": "cbbc3a09-d1c2-4820-a7b5-c8a3ff122d89",
   "metadata": {},
   "outputs": [
    {
     "name": "stdout",
     "output_type": "stream",
     "text": [
      "file not found [Errno 2] No such file or directory: 'one44.txt'\n",
      "the finally will execute itself in any condition\n"
     ]
    }
   ],
   "source": [
    "try:\n",
    "    g = open(\"one44.txt\" , \"r\")\n",
    "except Exception as h:\n",
    "    print(\"file not found\" , h)\n",
    "finally:\n",
    "    print(\"the finally will execute itself in any condition\")"
   ]
  },
  {
   "cell_type": "code",
   "execution_count": 32,
   "id": "40987f59-ab06-424c-8987-e3cab2737d1d",
   "metadata": {},
   "outputs": [],
   "source": [
    "#raise\n",
    "#The raise keyword is used to raise an exception. You can define what kind of error to raise, and the text to print to the user."
   ]
  },
  {
   "cell_type": "code",
   "execution_count": 36,
   "id": "8c406909-59a9-43d7-bd05-b5e7e55810ef",
   "metadata": {},
   "outputs": [
    {
     "ename": "TypeError",
     "evalue": "Only integers are allowed",
     "output_type": "error",
     "traceback": [
      "\u001b[0;31m---------------------------------------------------------------------------\u001b[0m",
      "\u001b[0;31mTypeError\u001b[0m                                 Traceback (most recent call last)",
      "Cell \u001b[0;32mIn[36], line 4\u001b[0m\n\u001b[1;32m      1\u001b[0m x \u001b[38;5;241m=\u001b[39m \u001b[38;5;124m\"\u001b[39m\u001b[38;5;124mhello\u001b[39m\u001b[38;5;124m\"\u001b[39m\n\u001b[1;32m      3\u001b[0m \u001b[38;5;28;01mif\u001b[39;00m \u001b[38;5;129;01mnot\u001b[39;00m \u001b[38;5;28mtype\u001b[39m(x) \u001b[38;5;129;01mis\u001b[39;00m \u001b[38;5;28mint\u001b[39m:\n\u001b[0;32m----> 4\u001b[0m   \u001b[38;5;28;01mraise\u001b[39;00m \u001b[38;5;167;01mTypeError\u001b[39;00m(\u001b[38;5;124m\"\u001b[39m\u001b[38;5;124mOnly integers are allowed\u001b[39m\u001b[38;5;124m\"\u001b[39m)\n",
      "\u001b[0;31mTypeError\u001b[0m: Only integers are allowed"
     ]
    }
   ],
   "source": [
    "x = \"hello\"\n",
    "\n",
    "if not type(x) is int:\n",
    "  raise TypeError(\"Only integers are allowed\")\n",
    "\n"
   ]
  },
  {
   "cell_type": "code",
   "execution_count": 37,
   "id": "f41fc28f-7028-40f1-a447-504115ba9b51",
   "metadata": {},
   "outputs": [],
   "source": [
    "#answer5"
   ]
  },
  {
   "cell_type": "code",
   "execution_count": 38,
   "id": "4bded09b-747c-4d39-ad02-22dcccd48382",
   "metadata": {},
   "outputs": [],
   "source": [
    "#To create a custom exception class, you define a class that inherits from the built-in Exception class or one of its subclasses such as ValueError class:"
   ]
  },
  {
   "cell_type": "code",
   "execution_count": 39,
   "id": "89e308e9-db82-4593-9bcd-4ccaafa7525c",
   "metadata": {},
   "outputs": [],
   "source": [
    "#custom exception  helps diagnose problems that have occurred in the code. "
   ]
  },
  {
   "cell_type": "code",
   "execution_count": 40,
   "id": "cbaaa096-896e-4852-a8c0-9b69dea2e14b",
   "metadata": {},
   "outputs": [],
   "source": [
    "#example\n",
    "\n",
    "class CustomError(Exception):\n",
    "    ...\n",
    "    pass\n",
    "\n",
    "try:\n",
    "   ...\n",
    "\n",
    "except CustomError:\n",
    "    ..."
   ]
  },
  {
   "cell_type": "code",
   "execution_count": 41,
   "id": "d522929a-7b3f-4ccb-b2cc-3db4cc501d1b",
   "metadata": {},
   "outputs": [],
   "source": [
    "#Here, CustomError is a user-defined error which inherits from the Exception class."
   ]
  },
  {
   "cell_type": "code",
   "execution_count": 42,
   "id": "aaed3891-7f8f-43ca-857d-b1418fa77da7",
   "metadata": {},
   "outputs": [],
   "source": []
  },
  {
   "cell_type": "code",
   "execution_count": null,
   "id": "c7821403-0f57-481c-885d-1705c21658a5",
   "metadata": {},
   "outputs": [],
   "source": []
  }
 ],
 "metadata": {
  "kernelspec": {
   "display_name": "Python 3 (ipykernel)",
   "language": "python",
   "name": "python3"
  },
  "language_info": {
   "codemirror_mode": {
    "name": "ipython",
    "version": 3
   },
   "file_extension": ".py",
   "mimetype": "text/x-python",
   "name": "python",
   "nbconvert_exporter": "python",
   "pygments_lexer": "ipython3",
   "version": "3.10.8"
  }
 },
 "nbformat": 4,
 "nbformat_minor": 5
}
