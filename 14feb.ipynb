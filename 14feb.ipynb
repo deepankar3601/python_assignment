{
 "cells": [
  {
   "cell_type": "code",
   "execution_count": 2,
   "id": "8852986c-c0e5-4999-91a3-9b63d7e301fc",
   "metadata": {},
   "outputs": [],
   "source": [
    "#answer1"
   ]
  },
  {
   "cell_type": "code",
   "execution_count": 3,
   "id": "bdaae1b9-637b-4ad2-adcd-0e46511a812b",
   "metadata": {},
   "outputs": [],
   "source": [
    "#Multithreading is a threading technique in Python programming to run multiple threads concurrently by rapidly switching between threads with a CPU help (called context switching). Besides, it allows sharing of its data space with the main threads inside a process that share information and communication with other threads easier than individual processes. Multithreading aims to perform multiple tasks simultaneously, which increases performance, speed and improves the rendering of the application."
   ]
  },
  {
   "cell_type": "code",
   "execution_count": 4,
   "id": "f055517e-1603-4cfe-b60a-d5fb1cc39a7a",
   "metadata": {},
   "outputs": [],
   "source": [
    "#It is a very useful technique for time-saving and improving the performance of an application. Multithreading allows the programmer to divide application tasks into sub-tasks and simultaneously run them in a program. It allows threads to communicate and share resources such as files, data, and memory to the same processor. Furthermore, it increases the user's responsiveness to continue running a program even if a part of the application is the length or blocked.\n",
    "\n",
    "#"
   ]
  },
  {
   "cell_type": "code",
   "execution_count": 6,
   "id": "31df9265-9c9f-40ec-a140-c6478920c952",
   "metadata": {},
   "outputs": [
    {
     "name": "stdout",
     "output_type": "stream",
     "text": [
      "thread function\n"
     ]
    }
   ],
   "source": [
    "#ex\n",
    "\n",
    "import threading\n",
    "\n",
    "def my_thread():\n",
    "    print(\"thread function\")\n",
    "\n",
    "t = threading.Thread(target=my_thread)\n",
    "t.start()"
   ]
  },
  {
   "cell_type": "code",
   "execution_count": 7,
   "id": "d93c1955-47a0-4032-810e-9a3c7440ca2b",
   "metadata": {},
   "outputs": [],
   "source": [
    "#answer2"
   ]
  },
  {
   "cell_type": "code",
   "execution_count": 8,
   "id": "2d35ae04-cd9c-40b9-bb9c-03918375e360",
   "metadata": {},
   "outputs": [],
   "source": [
    "#The threading module in Python is used to create and manage threads. It provides a high-level interface for creating threads and controlling their execution, with support for synchronization, locks, and events to coordinate access to shared resources."
   ]
  },
  {
   "cell_type": "code",
   "execution_count": 9,
   "id": "348b52af-1831-4e93-a7d9-4981c89ad38c",
   "metadata": {},
   "outputs": [],
   "source": [
    "#threading.activeCount() − Returns the number of thread objects that are active.\n",
    "#threading.currentThread() − Returns the number of thread objects in the caller's thread control.\n",
    "#threading.enumerate() − Returns a list of all thread objects that are currently active."
   ]
  },
  {
   "cell_type": "code",
   "execution_count": 10,
   "id": "cca16083-af32-49ba-bbf4-0f570dbc43ca",
   "metadata": {},
   "outputs": [],
   "source": [
    "#answer3"
   ]
  },
  {
   "cell_type": "code",
   "execution_count": 11,
   "id": "704eff54-dbc3-4276-abdf-61acb179fc9a",
   "metadata": {},
   "outputs": [],
   "source": [
    "#1.run\n",
    "#The run() function is used to define the behavior of a thread when it is started. This function is called when the thread's start() function is called. The run() function should be overridden in a custom thread class to define the behavior of the thread.\n",
    "#2.start\n",
    "#The start() function is used to start a new thread. When the start() function is called, the run() function of the thread is executed in a separate thread. If the thread has already been started, calling start() again will have no effect.\n",
    "#3.join\n",
    "#The join() function is used to wait for a thread to complete before continuing with the rest of the program. When the join() function is called, the program will block until the thread has finished executing. If a timeout value is provided, the program will wait for the thread to finish for the specified amount of time before continuing.\n",
    "#4.isAlive\n",
    "#The isAlive() function is used to check if a thread is still running. This function returns True if the thread is still running and False otherwise."
   ]
  },
  {
   "cell_type": "code",
   "execution_count": 12,
   "id": "cfdc2f86-468b-40b8-a456-7d64c251cd41",
   "metadata": {},
   "outputs": [
    {
     "name": "stdout",
     "output_type": "stream",
     "text": [
      "thread 1 started\n",
      "Thread 1 is still running\n",
      "thread 1 finished\n",
      "Thread 1 has finished\n"
     ]
    }
   ],
   "source": [
    "import threading\n",
    "import time\n",
    "\n",
    "def thread1():\n",
    "    print(\"thread 1 started\")\n",
    "    time.sleep(4)\n",
    "    print(\"thread 1 finished\")\n",
    "\n",
    "t = threading.Thread(target=thread1)\n",
    "\n",
    "t.start()\n",
    "\n",
    "if t.is_alive():\n",
    "    print(\"Thread 1 is still running\")\n",
    "t.join()\n",
    "\n",
    "if t.is_alive():\n",
    "    print(\"Thread 1 is still running\")\n",
    "else:\n",
    "    print(\"Thread 1 has finished\")"
   ]
  },
  {
   "cell_type": "code",
   "execution_count": 13,
   "id": "7992e5f6-da99-4372-bb5c-31db770143c7",
   "metadata": {},
   "outputs": [],
   "source": [
    "#answer4"
   ]
  },
  {
   "cell_type": "code",
   "execution_count": 20,
   "id": "000d3108-dd8f-40c8-9d94-9e8b485ba051",
   "metadata": {},
   "outputs": [
    {
     "name": "stdout",
     "output_type": "stream",
     "text": [
      "square of 9 is 81\n",
      "square of 1 is 1\n",
      "cubes of 1 is 1\n",
      "square of 10 is 100\n",
      "square of 2 is 4\n",
      "square of 11 is 121\n",
      "square of 3 is 9\n",
      "cubes of 2 is 8\n",
      "square of 12 is 144\n",
      "square of 4 is 16\n",
      "square of 13 is 169\n",
      "square of 5 is 25\n",
      "cubes of 3 is 27\n",
      "square of 14 is 196\n",
      "square of 6 is 36\n",
      "square of 15 is 225\n",
      "cubes of 4 is 64\n",
      "square of 7 is 49\n",
      "square of 16 is 256\n",
      "square of 8 is 64\n",
      "square of 17 is 289\n",
      "cubes of 5 is 125\n",
      "square of 9 is 81\n",
      "square of 18 is 324\n",
      "square of 10 is 100\n",
      "square of 19 is 361\n",
      "square of 11 is 121\n",
      "cubes of 6 is 216\n",
      "square of 12 is 144\n",
      "cubes of 7 is 343\n",
      "square of 13 is 169\n",
      "square of 14 is 196\n",
      "cubes of 8 is 512\n",
      "square of 15 is 225\n",
      "square of 16 is 256\n",
      "square of 17 is 289\n",
      "cubes of 9 is 729\n",
      "square of 18 is 324\n",
      "cubes of 10 is 1000square of 19 is 361\n",
      "\n",
      "cubes of 11 is 1331\n",
      "cubes of 12 is 1728\n",
      "cubes of 13 is 2197\n",
      "cubes of 14 is 2744\n",
      "cubes of 15 is 3375\n",
      "cubes of 16 is 4096\n",
      "cubes of 17 is 4913\n",
      "cubes of 18 is 5832\n",
      "cubes of 19 is 6859\n"
     ]
    }
   ],
   "source": [
    "import threading\n",
    "from time import sleep\n",
    "\n",
    "def squ():\n",
    "    for i in range(1 , 20):\n",
    "        print(f\"square of {i} is {i ** 2}\")\n",
    "        sleep(1)\n",
    "        \n",
    "def cub():\n",
    "    for i in range(1 , 20):\n",
    "        print(f\"cubes of {i} is {i**3}\")\n",
    "        sleep(2)\n",
    "        \n",
    "thread1 = threading.Thread(target = squ)\n",
    "thread2 = threading.Thread(target = cub)\n",
    "\n",
    "thread1.start()\n",
    "thread2.start()\n",
    "\n",
    "thread1.join()\n",
    "thread2.join()"
   ]
  },
  {
   "cell_type": "code",
   "execution_count": 21,
   "id": "8689396f-59ad-408e-ad42-18e9a63d0b78",
   "metadata": {},
   "outputs": [],
   "source": [
    "#answer5"
   ]
  },
  {
   "cell_type": "code",
   "execution_count": 22,
   "id": "723a149c-f16c-41b6-9393-ae6e7bbf83e5",
   "metadata": {},
   "outputs": [],
   "source": [
    "#advantages\n",
    "# Enhanced performance by decreased development time\n",
    "# Simplified and streamlined program coding\n",
    "# Improvised GUI responsiveness\n",
    "# Simultaneous and parallelized occurrence of tasks\n",
    "# Better use of cache storage by utilization of resources\n",
    "# Decreased cost of maintenance\n",
    "# Better use of CPU resource\n",
    "\n",
    "#disadvantages\n",
    "# Complex debugging and testing processes\n",
    "# Overhead switching of context\n",
    "# Increased potential for deadlock occurrence\n",
    "# Increased difficulty level in writing a program\n",
    "# Unpredictable results"
   ]
  },
  {
   "cell_type": "code",
   "execution_count": 23,
   "id": "2c807a0e-5f0f-4d39-acc8-a6bdaebbc236",
   "metadata": {},
   "outputs": [],
   "source": [
    "#answer6"
   ]
  },
  {
   "cell_type": "code",
   "execution_count": 24,
   "id": "417a556f-229f-40e2-9739-91a4ff187f45",
   "metadata": {},
   "outputs": [],
   "source": [
    "#deadlock\n",
    "# A deadlock is a concurrency failure mode where a thread or threads wait for a condition that never occurs.\n",
    "\n",
    "# The result is that the deadlock threads are unable to progress and the program is stuck or frozen and must be terminated forcefully.\n",
    "\n",
    "# There are many ways in which you may encounter a deadlock in your concurrent program.\n",
    "\n",
    "# Deadlocks are not developed intentionally, instead, they are an unexpected side effect or bug in concurrency programming.\n",
    "\n",
    "# Common examples of the cause of threading deadlocks include:\n",
    "\n",
    "# A thread that waits on itself (e.g. attempts to acquire the same mutex lock twice).\n",
    "# Threads that wait on each other (e.g. A waits on B, B waits on A).\n",
    "# Thread that fails to release a resource (e.g. mutex lock, semaphore, barrier, condition, event, etc.).\n",
    "# Threads that acquire mutex locks in different orders (e.g. fail to perform lock ordering).\n"
   ]
  },
  {
   "cell_type": "code",
   "execution_count": 25,
   "id": "e82f709e-2957-4dc7-9f3a-35aa3a56cee0",
   "metadata": {},
   "outputs": [],
   "source": [
    "#race condition\n",
    "\n",
    "# A race condition occurs when two threads try to access a shared variable simultaneously.\n",
    "\n",
    "# The first thread reads the value from the shared variable. The second thread also reads the value from the same shared variable.\n",
    "\n",
    "# Then both threads try to change the value of the shared variable. And they race to see which thread writes a value to the variable last.\n",
    "\n",
    "# The value from the thread that writes to the shared variable last is preserved because it overwrites the value that the previous thread wrote."
   ]
  },
  {
   "cell_type": "code",
   "execution_count": null,
   "id": "7a759f1e-c5f1-46a9-a81b-9340d50f0a44",
   "metadata": {},
   "outputs": [],
   "source": []
  }
 ],
 "metadata": {
  "kernelspec": {
   "display_name": "Python 3 (ipykernel)",
   "language": "python",
   "name": "python3"
  },
  "language_info": {
   "codemirror_mode": {
    "name": "ipython",
    "version": 3
   },
   "file_extension": ".py",
   "mimetype": "text/x-python",
   "name": "python",
   "nbconvert_exporter": "python",
   "pygments_lexer": "ipython3",
   "version": "3.10.8"
  }
 },
 "nbformat": 4,
 "nbformat_minor": 5
}
