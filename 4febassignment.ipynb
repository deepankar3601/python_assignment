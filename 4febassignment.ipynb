{
 "cells": [
  {
   "cell_type": "code",
   "execution_count": 1,
   "id": "bcd51fe3-8148-4f96-b7b1-35e01dd78359",
   "metadata": {},
   "outputs": [],
   "source": [
    "#ANSWER 1"
   ]
  },
  {
   "cell_type": "code",
   "execution_count": 11,
   "id": "7459bb63-3b7a-4223-b310-86de049f1721",
   "metadata": {},
   "outputs": [],
   "source": [
    "name =[('Sachin Tendulkar', 34357), ('Ricky Ponting', 27483), ('Jack Kallis', 25534), ('Virat Kohli', 24936)]\n"
   ]
  },
  {
   "cell_type": "code",
   "execution_count": 12,
   "id": "0846d5a8-ed93-49de-a1c5-a68f95d1666f",
   "metadata": {},
   "outputs": [
    {
     "name": "stdout",
     "output_type": "stream",
     "text": [
      "[('Virat Kohli', 24936), ('Jack Kallis', 25534), ('Ricky Ponting', 27483), ('Sachin Tendulkar', 34357)]\n"
     ]
    }
   ],
   "source": [
    "name.sort(key = lambda name : name[1])\n",
    "print(name)"
   ]
  },
  {
   "cell_type": "code",
   "execution_count": 13,
   "id": "037018c9-f47e-4c0e-a965-5d204b0750dc",
   "metadata": {},
   "outputs": [],
   "source": [
    "#ANSWER 2"
   ]
  },
  {
   "cell_type": "code",
   "execution_count": 20,
   "id": "18740bcf-7f73-4cd5-9b9e-eae045d00c97",
   "metadata": {},
   "outputs": [],
   "source": [
    "l = [1, 2, 3, 4, 5, 6, 7, 8, 9, 10]"
   ]
  },
  {
   "cell_type": "code",
   "execution_count": 5,
   "id": "7ac09ce2-58e4-4a74-ada6-15575d860e5b",
   "metadata": {},
   "outputs": [
    {
     "name": "stdout",
     "output_type": "stream",
     "text": [
      "[1, 4, 9, 16, 25, 36, 49, 64, 81, 100]\n"
     ]
    }
   ],
   "source": [
    "l = [1, 2, 3, 4, 5, 6, 7, 8, 9, 10]\n",
    "print(list(map(lambda x : x**2 , l )))\n"
   ]
  },
  {
   "cell_type": "code",
   "execution_count": 6,
   "id": "ada25855-d8e6-4e64-a550-71d082a8a6b0",
   "metadata": {},
   "outputs": [],
   "source": [
    "#ANSWER3"
   ]
  },
  {
   "cell_type": "code",
   "execution_count": 7,
   "id": "0d034677-c7b6-405e-9237-b15952969b6c",
   "metadata": {},
   "outputs": [],
   "source": [
    "numbers= [1, 2, 3, 4, 5, 6, 7, 8, 9, 10]"
   ]
  },
  {
   "cell_type": "code",
   "execution_count": 9,
   "id": "4bf6c022-ff26-4030-a481-901bc9056185",
   "metadata": {},
   "outputs": [
    {
     "name": "stdout",
     "output_type": "stream",
     "text": [
      "['1', '2', '3', '4', '5', '6', '7', '8', '9', '10']\n"
     ]
    }
   ],
   "source": [
    "numbers= [1, 2, 3, 4, 5, 6, 7, 8, 9, 10]\n",
    "print(list(map(lambda x : str(x) , numbers)))"
   ]
  },
  {
   "cell_type": "code",
   "execution_count": 10,
   "id": "4c343b17-d85a-46a5-af02-d943cd3014ed",
   "metadata": {},
   "outputs": [],
   "source": [
    "#ANSWER4"
   ]
  },
  {
   "cell_type": "code",
   "execution_count": 12,
   "id": "860cf0e7-6524-4309-8cf9-761fa006ab3d",
   "metadata": {},
   "outputs": [
    {
     "name": "stdout",
     "output_type": "stream",
     "text": [
      "15511210043330985984000000\n"
     ]
    }
   ],
   "source": [
    "from functools import reduce\n",
    "l1 = [1,2,3,4,5,6,7,8,9,10,11,12,13,14,15,16,17,18,19,20,21,22,23,24,25]\n",
    "print(reduce(lambda x , y: x*y , l1))"
   ]
  },
  {
   "cell_type": "code",
   "execution_count": 14,
   "id": "68ac23c3-bf7d-4ceb-ae54-308cce5baae1",
   "metadata": {},
   "outputs": [],
   "source": [
    "#ANSWER5"
   ]
  },
  {
   "cell_type": "code",
   "execution_count": 15,
   "id": "91258317-ccb1-487d-b11e-c60b09ec1c5b",
   "metadata": {},
   "outputs": [],
   "source": [
    "l2 = [2, 3, 6, 9, 27, 60, 90, 120, 55, 46]\n",
    "\n"
   ]
  },
  {
   "cell_type": "code",
   "execution_count": 16,
   "id": "cf5131a0-a5e1-413f-a0bd-c0e72f66c231",
   "metadata": {},
   "outputs": [
    {
     "data": {
      "text/plain": [
       "[6, 60, 90, 120]"
      ]
     },
     "execution_count": 16,
     "metadata": {},
     "output_type": "execute_result"
    }
   ],
   "source": [
    "list(filter(lambda x: x%2 == 0 and x%3 == 0 , l2 ))"
   ]
  },
  {
   "cell_type": "code",
   "execution_count": 17,
   "id": "947e6315-c77f-406e-acf0-a0e361fcd51c",
   "metadata": {},
   "outputs": [],
   "source": [
    "#ANSWER6"
   ]
  },
  {
   "cell_type": "code",
   "execution_count": 18,
   "id": "3392beb4-cf30-4b10-a41c-9a4f02637811",
   "metadata": {},
   "outputs": [],
   "source": [
    "l3 = ['python', 'php', 'aba', 'radar', 'level']"
   ]
  },
  {
   "cell_type": "code",
   "execution_count": 21,
   "id": "821a5eed-310d-469b-9fbb-c869ad9316af",
   "metadata": {},
   "outputs": [
    {
     "data": {
      "text/plain": [
       "['php', 'aba', 'radar', 'level']"
      ]
     },
     "execution_count": 21,
     "metadata": {},
     "output_type": "execute_result"
    }
   ],
   "source": [
    "list(filter(lambda s: s==s[::-1],l3))"
   ]
  },
  {
   "cell_type": "code",
   "execution_count": null,
   "id": "b329f82a-330a-4fcb-ae70-e5937a4647fd",
   "metadata": {},
   "outputs": [],
   "source": []
  }
 ],
 "metadata": {
  "kernelspec": {
   "display_name": "Python 3 (ipykernel)",
   "language": "python",
   "name": "python3"
  },
  "language_info": {
   "codemirror_mode": {
    "name": "ipython",
    "version": 3
   },
   "file_extension": ".py",
   "mimetype": "text/x-python",
   "name": "python",
   "nbconvert_exporter": "python",
   "pygments_lexer": "ipython3",
   "version": "3.10.8"
  }
 },
 "nbformat": 4,
 "nbformat_minor": 5
}
