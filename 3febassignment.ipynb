{
 "cells": [
  {
   "cell_type": "code",
   "execution_count": 1,
   "id": "c2a0890d-622d-4460-b70f-7603b593fd93",
   "metadata": {},
   "outputs": [],
   "source": [
    "#answer1"
   ]
  },
  {
   "cell_type": "code",
   "execution_count": 2,
   "id": "4d406093-6c97-472e-bccb-faa1798f024d",
   "metadata": {},
   "outputs": [],
   "source": [
    "# the def function is used to create a function."
   ]
  },
  {
   "cell_type": "code",
   "execution_count": 10,
   "id": "1b12a4af-a27f-4f10-961a-5a96aafd7932",
   "metadata": {},
   "outputs": [],
   "source": [
    "def odd_list():\n",
    "    \"\"\" odd numbers in the range of 1 to 25\"\"\"\n",
    "    \n",
    "    o = []\n",
    "    for i in range(1,25):\n",
    "        if i % 2 == 0:\n",
    "            o.append(i)\n",
    "    return o\n"
   ]
  },
  {
   "cell_type": "code",
   "execution_count": 11,
   "id": "aba11de9-5a6f-4002-b0fd-bbd047fa4c2b",
   "metadata": {},
   "outputs": [
    {
     "data": {
      "text/plain": [
       "[2, 4, 6, 8, 10, 12, 14, 16, 18, 20, 22, 24]"
      ]
     },
     "execution_count": 11,
     "metadata": {},
     "output_type": "execute_result"
    }
   ],
   "source": [
    "odd_list()"
   ]
  },
  {
   "cell_type": "code",
   "execution_count": 14,
   "id": "8c9cce4c-c1f7-4e8f-bd59-156e027cb7e8",
   "metadata": {},
   "outputs": [],
   "source": [
    "#answer2"
   ]
  },
  {
   "cell_type": "code",
   "execution_count": 15,
   "id": "2e3b2d5e-14e3-4d31-a769-f2a8410e09c3",
   "metadata": {},
   "outputs": [],
   "source": [
    "#We use *args and **kwargs as an argument when we are unsure about the number of arguments to pass in the functions."
   ]
  },
  {
   "cell_type": "code",
   "execution_count": 21,
   "id": "f651457c-1930-4fd0-8b04-98109169fe7a",
   "metadata": {},
   "outputs": [],
   "source": [
    "#args function\n",
    "\n",
    "def test(*args):\n",
    "    \n",
    "    \"\"\"args use\"\"\"\n",
    "    return args"
   ]
  },
  {
   "cell_type": "code",
   "execution_count": 23,
   "id": "1749febf-2051-4d32-8929-8a6c3180576e",
   "metadata": {},
   "outputs": [
    {
     "data": {
      "text/plain": [
       "(1, 2, 3, 4, [55, 22, 36], (45+6j))"
      ]
     },
     "execution_count": 23,
     "metadata": {},
     "output_type": "execute_result"
    }
   ],
   "source": [
    "test(1,2,3,4,[55,22,36],45+6j)"
   ]
  },
  {
   "cell_type": "code",
   "execution_count": null,
   "id": "a2f80745-c13b-4cf6-82e7-3ff2e587f68f",
   "metadata": {},
   "outputs": [],
   "source": [
    "#kwargs function"
   ]
  },
  {
   "cell_type": "code",
   "execution_count": 24,
   "id": "382eda0c-50b4-4771-9991-fcd8fce82351",
   "metadata": {},
   "outputs": [],
   "source": [
    "def test2(**kwargs):\n",
    "    \n",
    "    \"\"\"kwargs use\"\"\"\n",
    "    return kwargs"
   ]
  },
  {
   "cell_type": "code",
   "execution_count": 25,
   "id": "2b16d6da-9887-43dd-b70e-6687c2f2ad55",
   "metadata": {},
   "outputs": [
    {
     "data": {
      "text/plain": [
       "{'a': 'deepankar', 'b': 'chaudhary'}"
      ]
     },
     "execution_count": 25,
     "metadata": {},
     "output_type": "execute_result"
    }
   ],
   "source": [
    "test2(a=\"deepankar\",b=\"chaudhary\")"
   ]
  },
  {
   "cell_type": "code",
   "execution_count": 26,
   "id": "a8bf4ded-8a56-4c35-8ee3-1f42f69314ae",
   "metadata": {},
   "outputs": [],
   "source": [
    "#answer 3"
   ]
  },
  {
   "cell_type": "code",
   "execution_count": 27,
   "id": "49026d1b-d118-4133-9100-5483bb651c0f",
   "metadata": {},
   "outputs": [],
   "source": [
    "#An iterator is an object that contains a countable number of values."
   ]
  },
  {
   "cell_type": "code",
   "execution_count": 33,
   "id": "fc9c7dd5-8512-4d07-9ae8-c187688ca8d5",
   "metadata": {},
   "outputs": [
    {
     "name": "stdout",
     "output_type": "stream",
     "text": [
      "2\n",
      "4\n",
      "6\n",
      "8\n",
      "10\n"
     ]
    }
   ],
   "source": [
    "l = [2,4,6,8,10,12,14,16,18,20]\n",
    "count = 0\n",
    "\n",
    "for i in l:\n",
    "    if count<5:\n",
    "        print(i)\n",
    "        count+=1\n",
    "    "
   ]
  },
  {
   "cell_type": "code",
   "execution_count": 34,
   "id": "0819b57b-754a-4150-9c78-64b41f1eaede",
   "metadata": {},
   "outputs": [],
   "source": [
    "#answer4"
   ]
  },
  {
   "cell_type": "code",
   "execution_count": 35,
   "id": "5ec94f57-1fd3-44c6-8dac-261461e5f317",
   "metadata": {},
   "outputs": [],
   "source": [
    "# a generator is a function that returns an iterator that produces a sequence of values when iterated over. Generators are useful when we want to produce a large sequence of values, but we don't want to store all of them in memory at once."
   ]
  },
  {
   "cell_type": "code",
   "execution_count": 36,
   "id": "cdb45d22-d308-45fa-8c76-3275dad023ac",
   "metadata": {},
   "outputs": [],
   "source": [
    "#yield keyword is used to create a generator function. A type of function that is memory efficient and can be used like an iterator object. In layman terms, the yield keyword will turn any expression that is given with it into a generator object and return it to the caller."
   ]
  },
  {
   "cell_type": "code",
   "execution_count": null,
   "id": "ae77f752-d5f7-452b-8819-d61eb5d83948",
   "metadata": {},
   "outputs": [],
   "source": [
    "#generator function example\n",
    "\n",
    "def simple():\n",
    "    for i in range(10):\n",
    "    if(i%2==0):     \n",
    "         yield i  \n",
    "  \n",
    "#Successive Function call using for loop  \n",
    "for i in simple():  \n",
    "    print(i)  "
   ]
  },
  {
   "cell_type": "code",
   "execution_count": 47,
   "id": "78cd9745-5589-4545-8285-7b732dd1b2e6",
   "metadata": {},
   "outputs": [],
   "source": [
    "#answer6\n"
   ]
  },
  {
   "cell_type": "code",
   "execution_count": 53,
   "id": "02ad263e-62a7-49c8-b082-c9f780d3ad6f",
   "metadata": {},
   "outputs": [
    {
     "name": "stdout",
     "output_type": "stream",
     "text": [
      "0\n",
      "1\n",
      "1\n",
      "2\n",
      "3\n",
      "5\n",
      "8\n",
      "13\n",
      "21\n",
      "34\n"
     ]
    }
   ],
   "source": [
    "def fibonacci(n):\n",
    "    a, b = 0, 1\n",
    "    count = 0\n",
    "    while count < n:\n",
    "        print(a)\n",
    "        a, b = b, a + b\n",
    "        count += 1\n",
    "\n",
    "fibonacci(10)"
   ]
  },
  {
   "cell_type": "code",
   "execution_count": 54,
   "id": "fca8da68-17d9-441a-8b08-da0efe38f203",
   "metadata": {},
   "outputs": [],
   "source": [
    "#answer7"
   ]
  },
  {
   "cell_type": "code",
   "execution_count": 59,
   "id": "2a6c195e-dea2-4566-91eb-8cba2ad3c196",
   "metadata": {},
   "outputs": [
    {
     "name": "stdout",
     "output_type": "stream",
     "text": [
      "['p', 'w', 's', 'k', 'i', 'l', 'l', 's']\n"
     ]
    }
   ],
   "source": [
    "string = 'pwskills'\n",
    "output = [value for value in string]\n",
    "print(output)\n"
   ]
  },
  {
   "cell_type": "code",
   "execution_count": 60,
   "id": "5d42cdcd-7c69-4b0b-a73c-4ece61f1f69e",
   "metadata": {},
   "outputs": [],
   "source": [
    "#answer9\n"
   ]
  },
  {
   "cell_type": "code",
   "execution_count": 61,
   "id": "74a4b918-d113-457f-9499-540786456603",
   "metadata": {},
   "outputs": [
    {
     "data": {
      "text/plain": [
       "[1,\n",
       " 3,\n",
       " 5,\n",
       " 7,\n",
       " 9,\n",
       " 11,\n",
       " 13,\n",
       " 15,\n",
       " 17,\n",
       " 19,\n",
       " 21,\n",
       " 23,\n",
       " 25,\n",
       " 27,\n",
       " 29,\n",
       " 31,\n",
       " 33,\n",
       " 35,\n",
       " 37,\n",
       " 39,\n",
       " 41,\n",
       " 43,\n",
       " 45,\n",
       " 47,\n",
       " 49,\n",
       " 51,\n",
       " 53,\n",
       " 55,\n",
       " 57,\n",
       " 59,\n",
       " 61,\n",
       " 63,\n",
       " 65,\n",
       " 67,\n",
       " 69,\n",
       " 71,\n",
       " 73,\n",
       " 75,\n",
       " 77,\n",
       " 79,\n",
       " 81,\n",
       " 83,\n",
       " 85,\n",
       " 87,\n",
       " 89,\n",
       " 91,\n",
       " 93,\n",
       " 95,\n",
       " 97,\n",
       " 99]"
      ]
     },
     "execution_count": 61,
     "metadata": {},
     "output_type": "execute_result"
    }
   ],
   "source": [
    "[odd for odd in range(1,100) if odd%2!=0]\n"
   ]
  },
  {
   "cell_type": "code",
   "execution_count": null,
   "id": "00124c77-ce9e-4e7a-b46c-54f117ee4ca5",
   "metadata": {},
   "outputs": [],
   "source": []
  }
 ],
 "metadata": {
  "kernelspec": {
   "display_name": "Python 3 (ipykernel)",
   "language": "python",
   "name": "python3"
  },
  "language_info": {
   "codemirror_mode": {
    "name": "ipython",
    "version": 3
   },
   "file_extension": ".py",
   "mimetype": "text/x-python",
   "name": "python",
   "nbconvert_exporter": "python",
   "pygments_lexer": "ipython3",
   "version": "3.10.8"
  }
 },
 "nbformat": 4,
 "nbformat_minor": 5
}
