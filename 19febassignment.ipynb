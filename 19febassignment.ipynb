{
 "cells": [
  {
   "cell_type": "code",
   "execution_count": 1,
   "id": "b470bb39-2d2a-4954-beb7-101412ec92d6",
   "metadata": {},
   "outputs": [],
   "source": [
    "#answer1\n",
    "\n",
    "#lask is a lightweight WSGI web application framework. It is designed to make getting started quick and easy, with the ability to scale up to complex applications. It began as a simple wrapper around Werkzeug and Jinja and has become one of the most popular Python web application frameworks.\n",
    "#In simple terms, it is a web framework that is beginner-friendly and scalable.\n",
    "\n",
    "# Advantages of Flask\n",
    "# Scalable. Size is everything, and Flask's status as a microframework means that you can use it to grow a tech project such as a web app incredibly quickly.\n",
    "# Flexible. \n",
    "# Easy to negotiate. \n",
    "# Lightweight. \n",
    "# Documentation. \n",
    "# Not a lot of tools. \n",
    "# Difficult to get familiar with a larger Flask app.\n",
    "# Maintenance costs."
   ]
  },
  {
   "cell_type": "code",
   "execution_count": 14,
   "id": "cb615a43-1844-4884-ae65-6653780c8705",
   "metadata": {},
   "outputs": [
    {
     "name": "stdout",
     "output_type": "stream",
     "text": [
      "Requirement already satisfied: Flask in /opt/conda/lib/python3.10/site-packages (2.2.3)\n",
      "Requirement already satisfied: Jinja2>=3.0 in /opt/conda/lib/python3.10/site-packages (from Flask) (3.1.2)\n",
      "Requirement already satisfied: Werkzeug>=2.2.2 in /opt/conda/lib/python3.10/site-packages (from Flask) (2.2.3)\n",
      "Requirement already satisfied: click>=8.0 in /opt/conda/lib/python3.10/site-packages (from Flask) (8.1.3)\n",
      "Requirement already satisfied: itsdangerous>=2.0 in /opt/conda/lib/python3.10/site-packages (from Flask) (2.1.2)\n",
      "Requirement already satisfied: MarkupSafe>=2.0 in /opt/conda/lib/python3.10/site-packages (from Jinja2>=3.0->Flask) (2.1.1)\n",
      "Note: you may need to restart the kernel to use updated packages.\n"
     ]
    }
   ],
   "source": [
    "#answer2\n",
    "pip install Flask\n"
   ]
  },
  {
   "cell_type": "code",
   "execution_count": 20,
   "id": "e4ca8137-d662-46bd-8bf0-2f3a8111265d",
   "metadata": {},
   "outputs": [
    {
     "name": "stdout",
     "output_type": "stream",
     "text": [
      " * Serving Flask app '__main__'\n",
      " * Debug mode: off\n"
     ]
    },
    {
     "name": "stderr",
     "output_type": "stream",
     "text": [
      "WARNING: This is a development server. Do not use it in a production deployment. Use a production WSGI server instead.\n",
      " * Running on all addresses (0.0.0.0)\n",
      " * Running on http://127.0.0.1:5000\n",
      " * Running on http://172.18.0.5:5000\n",
      "Press CTRL+C to quit\n"
     ]
    }
   ],
   "source": [
    "\n",
    "from flask import Flask\n",
    "\n",
    "app = Flask(__name__)\n",
    "\n",
    "@app.route(\"/\")\n",
    "def hello_world():\n",
    "    return '<h1>Hello World!!</h1>'\n",
    "\n",
    "if __name__==\"__main__\":\n",
    "    app.run(host=\"0.0.0.0\")"
   ]
  },
  {
   "cell_type": "code",
   "execution_count": 16,
   "id": "23b4fb1c-da19-40e4-b6a6-5b8bae3c2056",
   "metadata": {},
   "outputs": [],
   "source": [
    "#https://orange-plumber-qalgo.pwskills.app:5000/"
   ]
  },
  {
   "cell_type": "code",
   "execution_count": 5,
   "id": "b6349a97-79ce-47ec-af3c-8f7976f88ce7",
   "metadata": {},
   "outputs": [],
   "source": [
    "#answer3\n",
    "#App Routing means mapping the URLs to a specific function that will handle the logic for that URL. Modern web frameworks use more meaningful URLs to help users remember the URLs and make navigation simpler. Example: In our application, the URL (“/”) is associated with the root URL\n",
    "#Example: In our application, the URL (“/”) is associated with the root URL. So if our site’s domain was www.example.org and we want to add routing to “www.example.org/hello”, we would use “/hello”. \n",
    "#To bind a function to an URL path we use the app.route decorator. In the below example, we have implemented the above routing in the flask."
   ]
  },
  {
   "cell_type": "code",
   "execution_count": 6,
   "id": "eb4ae4ca-bf8c-4389-b594-243a08756f77",
   "metadata": {},
   "outputs": [],
   "source": [
    "#answer4"
   ]
  },
  {
   "cell_type": "code",
   "execution_count": 18,
   "id": "a29bd2ee-4d82-4eab-b3e1-bb35c2d53b74",
   "metadata": {},
   "outputs": [
    {
     "name": "stdout",
     "output_type": "stream",
     "text": [
      "Requirement already satisfied: Flask in /opt/conda/lib/python3.10/site-packages (2.2.3)\n",
      "Requirement already satisfied: itsdangerous>=2.0 in /opt/conda/lib/python3.10/site-packages (from Flask) (2.1.2)\n",
      "Requirement already satisfied: click>=8.0 in /opt/conda/lib/python3.10/site-packages (from Flask) (8.1.3)\n",
      "Requirement already satisfied: Jinja2>=3.0 in /opt/conda/lib/python3.10/site-packages (from Flask) (3.1.2)\n",
      "Requirement already satisfied: Werkzeug>=2.2.2 in /opt/conda/lib/python3.10/site-packages (from Flask) (2.2.3)\n",
      "Requirement already satisfied: MarkupSafe>=2.0 in /opt/conda/lib/python3.10/site-packages (from Jinja2>=3.0->Flask) (2.1.1)\n",
      "^C\n",
      "\u001b[31mERROR: Operation cancelled by user\u001b[0m\u001b[31m\n",
      "\u001b[0mNote: you may need to restart the kernel to use updated packages.\n"
     ]
    }
   ],
   "source": [
    "pip install Flask"
   ]
  },
  {
   "cell_type": "code",
   "execution_count": null,
   "id": "fb0a1f66-e26e-4aed-817f-eed95092a7ac",
   "metadata": {},
   "outputs": [
    {
     "name": "stdout",
     "output_type": "stream",
     "text": [
      " * Serving Flask app '__main__'\n",
      " * Debug mode: off\n"
     ]
    },
    {
     "name": "stderr",
     "output_type": "stream",
     "text": [
      "WARNING: This is a development server. Do not use it in a production deployment. Use a production WSGI server instead.\n",
      " * Running on all addresses (0.0.0.0)\n",
      " * Running on http://127.0.0.1:5000\n",
      " * Running on http://172.18.0.5:5000\n",
      "Press CTRL+C to quit\n",
      "172.18.0.2 - - [21/Feb/2023 10:17:14] \"GET /welcome HTTP/1.1\" 200 -\n",
      "172.18.0.2 - - [21/Feb/2023 10:18:09] \"GET /details HTTP/1.1\" 200 -\n"
     ]
    }
   ],
   "source": [
    "from flask import Flask\n",
    "\n",
    "app = Flask(__name__)\n",
    "\n",
    "@app.route(\"/welcome\")\n",
    "def welcome():\n",
    "    return \"welcome to abc corporation\"\n",
    "@app.route(\"/details\")\n",
    "def company_details():\n",
    "    return \"Company Name: ABC Corporation, Location: India, Contact Detail: 999-999-9999\"\n",
    "\n",
    "\n",
    "if __name__ == \"__main__\":\n",
    "    app.run(host=\"0.0.0.0\")"
   ]
  },
  {
   "cell_type": "code",
   "execution_count": null,
   "id": "e3e2ddd7-eb4e-40e5-8167-f2ebd61ab3ed",
   "metadata": {},
   "outputs": [],
   "source": [
    "#https://orange-plumber-qalgo.pwskills.app:5000/welcome"
   ]
  },
  {
   "cell_type": "code",
   "execution_count": null,
   "id": "5f93634c-aafe-4e44-9de8-07bf2bbd71d2",
   "metadata": {},
   "outputs": [],
   "source": [
    "#https://orange-plumber-qalgo.pwskills.app:5000/details"
   ]
  },
  {
   "cell_type": "code",
   "execution_count": 10,
   "id": "3ccc09ae-20e4-4dcd-aad4-ee1857017e74",
   "metadata": {},
   "outputs": [],
   "source": [
    "#answer5"
   ]
  },
  {
   "cell_type": "code",
   "execution_count": 11,
   "id": "5e0032d1-fc4b-40aa-ae84-0289e7d63c55",
   "metadata": {},
   "outputs": [],
   "source": [
    "#URL Building\n",
    "#To build a URL to a specific function, use the url_for() function. It accepts the name of the function as its first argument and any number of keyword arguments, each corresponding to a variable part of the URL rule."
   ]
  },
  {
   "cell_type": "code",
   "execution_count": null,
   "id": "38fedb46-6063-4b6d-8c58-5c21d3909543",
   "metadata": {},
   "outputs": [],
   "source": []
  },
  {
   "cell_type": "code",
   "execution_count": null,
   "id": "d6081d2b-3516-4338-b51c-a02f50366f54",
   "metadata": {},
   "outputs": [],
   "source": []
  }
 ],
 "metadata": {
  "kernelspec": {
   "display_name": "Python 3 (ipykernel)",
   "language": "python",
   "name": "python3"
  },
  "language_info": {
   "codemirror_mode": {
    "name": "ipython",
    "version": 3
   },
   "file_extension": ".py",
   "mimetype": "text/x-python",
   "name": "python",
   "nbconvert_exporter": "python",
   "pygments_lexer": "ipython3",
   "version": "3.10.8"
  }
 },
 "nbformat": 4,
 "nbformat_minor": 5
}
