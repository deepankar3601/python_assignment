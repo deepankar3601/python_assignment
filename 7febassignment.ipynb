{
 "cells": [
  {
   "cell_type": "code",
   "execution_count": null,
   "id": "ad81cd9a-1b60-4f23-941a-d009a90ccec9",
   "metadata": {},
   "outputs": [],
   "source": [
    "# Q1. You are writing code for a company. The requirement of the company is that you create a python\n",
    "# function that will check whether the password entered by the user is correct or not. The function should\n",
    "# take the password as input and return the string “Valid Password” if the entered password follows the\n",
    "# below-given password guidelines else it should return “Invalid Password”.\n",
    "# Note: 1. The Password should contain at least two uppercase letters and at least two lowercase letters.\n",
    "# 2. The Password should contain at least a number and three special characters.\n",
    "# 3. The length of the password should be 10 characters long."
   ]
  },
  {
   "cell_type": "code",
   "execution_count": 18,
   "id": "71daf323-5b78-41e8-b280-a2f84dd3a335",
   "metadata": {},
   "outputs": [
    {
     "name": "stdin",
     "output_type": "stream",
     "text": [
      "Enter password:  mypassASD@#$@#$$2234\n"
     ]
    },
    {
     "name": "stdout",
     "output_type": "stream",
     "text": [
      "Valid Password\n"
     ]
    }
   ],
   "source": [
    "def password_checker(password):\n",
    "    upper = 0\n",
    "    lower = 0\n",
    "    n= 0\n",
    "    special = 0\n",
    "    for i in password:\n",
    "        if i.isupper():\n",
    "            upper += 1\n",
    "        elif i.islower():\n",
    "            lower += 1\n",
    "        elif i.isdigit():\n",
    "            n += 1\n",
    "        elif i in \"!@#$%^&*\":\n",
    "            special += 1\n",
    "  \n",
    "    while upper < 2 or lower < 2 or n < 1 or special < 3:\n",
    "        return \"Invalid Password\"\n",
    "    if len(password) != 10:\n",
    "        return \"Valid Password\"\n",
    "    else:\n",
    "        return \"Invalid Password\"\n",
    "\n",
    "password = input(\"Enter password: \")\n",
    "result = password_checker(password)\n",
    "print(result)"
   ]
  },
  {
   "cell_type": "code",
   "execution_count": 19,
   "id": "e9d18f09-393a-4173-97a9-17593f37d4f9",
   "metadata": {},
   "outputs": [],
   "source": [
    "# Q2. Solve the below-given questions using at least one of the following:\n",
    "# 1. Lambda functioJ\n",
    "# 2. Filter functioJ\n",
    "# 3. Zap functioJ\n",
    "# 4. List ComprehensioI\n",
    "# B Check if the string starts with a particular letterY\n",
    "# B Check if the string is numericY\n",
    "# B Sort a list of tuples having fruit names and their quantity. [(\"mango\",99),(\"orange\",80), (\"grapes\", 1000)-\n",
    "# B Find the squares of numbers from 1 to 10Y\n",
    "# B Find the cube root of numbers from 1 to 10Y\n",
    "# B Check if a given number is evenY\n",
    "# B Filter odd numbers from the given list.\n",
    "# [1,2,3,4,5,6,7,8,9,10-\n",
    "# B Sort a list of integers into positive and negative integers lists.\n",
    "# [1,2,3,4,5,6,-1,-2,-3,-4,-5,0]"
   ]
  },
  {
   "cell_type": "code",
   "execution_count": 30,
   "id": "7e9b82ca-e152-4f35-87ff-3b9f52a1fd41",
   "metadata": {},
   "outputs": [
    {
     "name": "stdout",
     "output_type": "stream",
     "text": [
      "Pwskills starts with P : True\n"
     ]
    }
   ],
   "source": [
    "#Check if the string starts with a particular letter\n",
    "\n",
    "p = \"Pwskills\"\n",
    "C = \"P\"\n",
    "\n",
    "check_first_letter = lambda a : True if a.startswith(C) else False\n",
    "print(f\"Pwskills starts with P : {check_first_letter(p)}\")"
   ]
  },
  {
   "cell_type": "code",
   "execution_count": 35,
   "id": "42302aa2-212d-4bfd-877e-ecb56d107b9c",
   "metadata": {},
   "outputs": [
    {
     "name": "stdout",
     "output_type": "stream",
     "text": [
      "string is numeric : True\n"
     ]
    }
   ],
   "source": [
    "#check if the string is numeric\n",
    "\n",
    "s = \"12345\"\n",
    "check_numeric = lambda a : a.isdigit()\n",
    "print(f\"string is numeric : {check_numeric(s)}\")"
   ]
  },
  {
   "cell_type": "code",
   "execution_count": 39,
   "id": "29482883-ee24-4a5e-8822-5c628b46156c",
   "metadata": {},
   "outputs": [
    {
     "data": {
      "text/plain": [
       "[('orange', 80), ('mango', 99), ('grapes', 1000)]"
      ]
     },
     "execution_count": 39,
     "metadata": {},
     "output_type": "execute_result"
    }
   ],
   "source": [
    "#Sort a list of tuples having fruit names and their quantity.\n",
    "\n",
    "fruits = [(\"mango\",99),(\"orange\",80), (\"grapes\", 1000)]\n",
    "sorted(fruits, key=lambda x:x[1])\n"
   ]
  },
  {
   "cell_type": "code",
   "execution_count": 41,
   "id": "dacf46fc-008f-47c8-9bc0-3c12aa8a413e",
   "metadata": {},
   "outputs": [
    {
     "name": "stdout",
     "output_type": "stream",
     "text": [
      "[1, 4, 9, 16, 25, 36, 49, 64, 81, 100]\n"
     ]
    }
   ],
   "source": [
    "#find the square of numbers from 1 to 10\n",
    "# using map and lambda function\n",
    "square = map(lambda x: x**2, range(1,11))\n",
    "print(list(square))"
   ]
  },
  {
   "cell_type": "code",
   "execution_count": 42,
   "id": "f7d01d3f-9843-4d78-a1d4-9f8ffee186fc",
   "metadata": {},
   "outputs": [
    {
     "name": "stdout",
     "output_type": "stream",
     "text": [
      "[1.0, 1.2599210498948732, 1.4422495703074083, 1.5874010519681994, 1.7099759466766968, 1.8171205928321397, 1.912931182772389, 2.0, 2.080083823051904, 2.154434690031884]\n"
     ]
    }
   ],
   "source": [
    "#5.Find the cube root of numbers from 1 to 10\n",
    "import math\n",
    "# using map function\n",
    "cube_root = map(lambda x: math.pow(x,1/3), range(1,11))\n",
    "print(list(cube_root))"
   ]
  },
  {
   "cell_type": "code",
   "execution_count": 44,
   "id": "498de028-a574-4918-b430-cf1997a5662b",
   "metadata": {},
   "outputs": [
    {
     "name": "stdout",
     "output_type": "stream",
     "text": [
      "True\n",
      "False\n"
     ]
    }
   ],
   "source": [
    "#Check if a given number is even\n",
    "# using lamda function\n",
    "check_even = lambda x: x%2 == 0\n",
    "print(check_even(2)) \n",
    "print(check_even(3))"
   ]
  },
  {
   "cell_type": "code",
   "execution_count": 45,
   "id": "dffefd97-1e8e-4b01-a67a-f2c1ed09aad7",
   "metadata": {},
   "outputs": [
    {
     "name": "stdout",
     "output_type": "stream",
     "text": [
      "[1, 3, 5, 7, 9]\n"
     ]
    }
   ],
   "source": [
    "#Filter odd numbers from the given list. [1,2,3,4,5,6,7,8,9,10]\n",
    "# using filter function \n",
    "result = filter(lambda x: x%2!=0, range(1,11))\n",
    "print(list(result))"
   ]
  },
  {
   "cell_type": "code",
   "execution_count": 46,
   "id": "5819c6a5-d7ec-4089-b10a-9ef2b2337509",
   "metadata": {},
   "outputs": [
    {
     "name": "stdout",
     "output_type": "stream",
     "text": [
      "The original list is : [1, 2, 3, 4, 5, 6, -1, -2, -3, -4, -5, 0]\n",
      "Result after performing sort operation : [1, 2, 3, 4, 5, 6, 0, -5, -4, -3, -2, -1]\n",
      "Positive numebrs : [1, 2, 3, 4, 5, 6]\n",
      "Negetive numebrs : [-1, -2, -3, -4, -5]\n"
     ]
    }
   ],
   "source": [
    "#Sort a list of integers into positive and negative integers lists. [1,2,3,4,5,6,-1,-2,-3,-4,-5,0]\n",
    "# using list comprehension \n",
    "list =[1,2,3,4,5,6,-1,-2,-3,-4,-5,0]\n",
    "print(\"The original list is : \" + str(list))\n",
    "\n",
    "res = sorted(list, key = lambda i: 0 if i == 0 else -1 / i)\n",
    "print(\"Result after performing sort operation : \" + str(res))\n",
    "\n",
    "p_numbers = [x for x in list if x > 0]\n",
    "n_numbers = [x for x in list if x < 0]\n",
    "print(f\"Positive numebrs : {p_numbers}\")\n",
    "print(f\"Negetive numebrs : {n_numbers}\")"
   ]
  },
  {
   "cell_type": "code",
   "execution_count": null,
   "id": "9d884e9a-581c-458e-b4cc-7c7738a9c02a",
   "metadata": {},
   "outputs": [],
   "source": []
  }
 ],
 "metadata": {
  "kernelspec": {
   "display_name": "Python 3 (ipykernel)",
   "language": "python",
   "name": "python3"
  },
  "language_info": {
   "codemirror_mode": {
    "name": "ipython",
    "version": 3
   },
   "file_extension": ".py",
   "mimetype": "text/x-python",
   "name": "python",
   "nbconvert_exporter": "python",
   "pygments_lexer": "ipython3",
   "version": "3.10.8"
  }
 },
 "nbformat": 4,
 "nbformat_minor": 5
}
