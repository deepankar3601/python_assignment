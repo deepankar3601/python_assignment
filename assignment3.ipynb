{
 "cells": [
  {
   "cell_type": "code",
   "execution_count": 1,
   "id": "c57191d5-a919-4800-be07-6608bcaa826f",
   "metadata": {},
   "outputs": [],
   "source": [
    "#answer 1"
   ]
  },
  {
   "cell_type": "code",
   "execution_count": 6,
   "id": "46ae7096-e4bb-40ad-b8bd-ad80f3a571b5",
   "metadata": {},
   "outputs": [],
   "source": [
    " #For loop: A for loop is a control flow statement that executes code repeatedly for a particular number of iterations. In this control flow statement, the keyword used is for. The for loop is used when the number of iterations is already known.\n",
    "    "
   ]
  },
  {
   "cell_type": "code",
   "execution_count": 10,
   "id": "0e0dddeb-80d7-4dda-8615-d7c7bbaa0dd5",
   "metadata": {},
   "outputs": [
    {
     "name": "stdout",
     "output_type": "stream",
     "text": [
      "1\n",
      "2\n",
      "3\n"
     ]
    }
   ],
   "source": [
    "#EXAMPLE\n",
    "\n",
    "n = [1, 2, 3]  \n",
    "for i in n:  \n",
    "    print(i)"
   ]
  },
  {
   "cell_type": "code",
   "execution_count": 11,
   "id": "75602624-79f3-49eb-8062-ecbfb7ae7bed",
   "metadata": {},
   "outputs": [],
   "source": [
    "#A loop that executes a single statement or a group of statements for the given true condition. The keyword used to represent this loop is \"while\". A \"while\" loop is used when the number of iterations is unknown. The statement repeats itself till the boolean value becomes false. In a while loop, the condition is tested at the start, also known as the pre-test loop."
   ]
  },
  {
   "cell_type": "code",
   "execution_count": 12,
   "id": "c901e3b6-1ad3-45fd-9e1a-973ddc9c76ec",
   "metadata": {},
   "outputs": [
    {
     "name": "stdout",
     "output_type": "stream",
     "text": [
      "1\n",
      "2\n",
      "3\n",
      "4\n",
      "5\n"
     ]
    }
   ],
   "source": [
    "#EXAMPLE\n",
    "\n",
    "i = 1  \n",
    "while i < 6:  \n",
    "    print(i)\n",
    "    i += 1  \n"
   ]
  },
  {
   "cell_type": "code",
   "execution_count": null,
   "id": "0019b16d-1500-4c76-abb3-a08c7d8f159e",
   "metadata": {},
   "outputs": [],
   "source": [
    "#answer 2"
   ]
  },
  {
   "cell_type": "code",
   "execution_count": 16,
   "id": "d0311f82-6f2c-41c6-8e52-20cb3dd6ec76",
   "metadata": {},
   "outputs": [
    {
     "name": "stdout",
     "output_type": "stream",
     "text": [
      "sum of first 10 natural numbers is: 55\n",
      "product of first 10 natural numbers is: 3628800\n"
     ]
    }
   ],
   "source": [
    "#for loop\n",
    "\n",
    "sum= 0\n",
    "product= 1\n",
    "\n",
    "for i in range(1, 11):\n",
    "    sum+= i\n",
    "    product*= i\n",
    "\n",
    "print(\"sum of first 10 natural numbers is:\", sum)\n",
    "print(\"product of first 10 natural numbers is:\", product)"
   ]
  },
  {
   "cell_type": "code",
   "execution_count": 17,
   "id": "45706a6a-4601-417b-932d-e68e7f621b15",
   "metadata": {},
   "outputs": [
    {
     "name": "stdout",
     "output_type": "stream",
     "text": [
      "sum of the first 10 natural numbers is: 55\n",
      "product of the first 10 natural numbers is: 3628800\n"
     ]
    }
   ],
   "source": [
    "#while loop-\n",
    "\n",
    "sum= 0\n",
    "product= 1\n",
    "i= 1\n",
    "\n",
    "while i <= 10:\n",
    "    sum+= i\n",
    "    product*= i\n",
    "    i += 1\n",
    "\n",
    "print(\"sum of the first 10 natural numbers is:\", sum)\n",
    "print(\"product of the first 10 natural numbers is:\", product)"
   ]
  },
  {
   "cell_type": "code",
   "execution_count": null,
   "id": "862761ef-11e8-4ce6-ae37-96ec35cd8839",
   "metadata": {},
   "outputs": [],
   "source": [
    "#answer3 "
   ]
  },
  {
   "cell_type": "code",
   "execution_count": 25,
   "id": "b1f1d654-4458-4536-b4ff-6e5ef4fc7923",
   "metadata": {},
   "outputs": [
    {
     "name": "stdin",
     "output_type": "stream",
     "text": [
      "enter electricity units here 310\n"
     ]
    },
    {
     "name": "stdout",
     "output_type": "stream",
     "text": [
      "2250.0\n"
     ]
    }
   ],
   "source": [
    "units =int(input(\"enter electricity units here\"))\n",
    "\n",
    "if units <= 100:\n",
    "    bill = units * 4.5\n",
    "elif units <= 200:\n",
    "    bill = 100 * 4.5 + (units-100) * 6\n",
    "elif units <= 300:\n",
    "    bill = 100 * 4.5 + 100 * 6 + (units-200) * 10\n",
    "else:\n",
    "    bill = 100 * 4.5 + 100 * 6 + 100 * 10 + (units-300) * 20\n",
    "print( bill )    \n",
    "    \n"
   ]
  },
  {
   "cell_type": "code",
   "execution_count": 27,
   "id": "d7268381-b42a-4a0e-a9d8-1d20e0b48f57",
   "metadata": {},
   "outputs": [],
   "source": [
    "#amswer 5\n"
   ]
  },
  {
   "cell_type": "code",
   "execution_count": 31,
   "id": "1d86a089-0c6c-40e0-89f4-857667cbd4f4",
   "metadata": {},
   "outputs": [
    {
     "name": "stdout",
     "output_type": "stream",
     "text": [
      "number of vowels 12\n"
     ]
    }
   ],
   "source": [
    "str = \"I want to become a data scientist\"\n",
    "vowels = \"aeiouAEIOU\"\n",
    "count = 0\n",
    "\n",
    "for i in str:\n",
    "    if i in vowels:\n",
    "        count += 1\n",
    "print(\"number of vowels\", count)\n",
    "        "
   ]
  },
  {
   "cell_type": "code",
   "execution_count": null,
   "id": "a64a99ce-c650-4197-9184-371dd3d06766",
   "metadata": {},
   "outputs": [],
   "source": []
  }
 ],
 "metadata": {
  "kernelspec": {
   "display_name": "Python 3 (ipykernel)",
   "language": "python",
   "name": "python3"
  },
  "language_info": {
   "codemirror_mode": {
    "name": "ipython",
    "version": 3
   },
   "file_extension": ".py",
   "mimetype": "text/x-python",
   "name": "python",
   "nbconvert_exporter": "python",
   "pygments_lexer": "ipython3",
   "version": "3.10.8"
  }
 },
 "nbformat": 4,
 "nbformat_minor": 5
}
