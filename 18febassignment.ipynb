{
 "cells": [
  {
   "cell_type": "code",
   "execution_count": 1,
   "id": "26323f68-00b1-40a4-859d-1b6e0d1b8884",
   "metadata": {},
   "outputs": [],
   "source": [
    "#answer1"
   ]
  },
  {
   "cell_type": "code",
   "execution_count": 2,
   "id": "c88ee203-04c8-4d09-b7d7-cbb22dbbb79a",
   "metadata": {},
   "outputs": [],
   "source": [
    "#APIs are mechanisms that enable two software components to communicate with each other using a set of definitions and protocols. For example, the weather bureau's software system contains daily weather data. The weather app on your phone “talks” to this system via APIs and shows you daily weather updates on your phone."
   ]
  },
  {
   "cell_type": "code",
   "execution_count": 3,
   "id": "6d3b5aee-205c-43de-b825-d6f9b37de595",
   "metadata": {},
   "outputs": [],
   "source": [
    "#answer2"
   ]
  },
  {
   "cell_type": "code",
   "execution_count": 4,
   "id": "9a838f30-84ee-44c1-95ff-6e9a6ad62233",
   "metadata": {},
   "outputs": [],
   "source": [
    "#API ADVANTAGES\n",
    "\n",
    "# Applications: Access to APIs ensures more flexibility in information-transfer processes.\n",
    "# Reach: APIs let you create layers in apps in order to distribute information to different audiences.\n",
    "# Customization: Furthermore, it can serve as a solution to create different experiences for users, letting protocols, functions, and commands be adapted according to specific demands.\n",
    "# Efficiency: When you have content that is automatically published and made available on different channels simultaneously, APIs allow for more efficient data distribution.\n",
    "# Adaptability: One of the greatest benefits of APIs is the ability it has to adapt to changes through data migration and flexibility of services.\n",
    "\n",
    "#API DISADVANTAGES\n",
    "\n",
    "# API load testing does not simulate real users interacting with elements of your webpage.\n",
    "# It doesn’t give you an idea of how user-friendly your application is.\n",
    "# ‌It doesn’t measure front-end performance or how quickly pages render in different browsers.\n",
    "# ‌API load testing doesn’t run client-side scripts."
   ]
  },
  {
   "cell_type": "code",
   "execution_count": 5,
   "id": "01e74347-21a6-47fe-9017-18361e9ca8c1",
   "metadata": {},
   "outputs": [],
   "source": [
    "#answer3"
   ]
  },
  {
   "cell_type": "code",
   "execution_count": 6,
   "id": "58f1deec-65c2-4baa-9d24-d4055181b234",
   "metadata": {
    "jupyter": {
     "source_hidden": true
    },
    "tags": []
   },
   "outputs": [],
   "source": [
    "# In computer programming, an application programming interface (API) is a set of subroutine definitions, protocols, and tools for building software and applications.\n",
    "# To put it in simple terms, API is some kind of interface which has a set of functions that allow programmers to access specific features or data of an application, operating system or other services.\n",
    "# Web API as the name suggests, is an API over the web which can be accessed using HTTP protocol. It is a concept and not a technology. We can build Web API using different technologies such as Java, .NET etc. For example, Twitter's REST APIs provide programmatic access to read and write data using which we can integrate twitter's capabilities into our own application.\n",
    "\n",
    "#difference\n",
    "\n",
    "# Web Services\n",
    "# Web service is used to communicate between two machines on a network.\n",
    "# It uses HTML requests that can be compressed, but XML data cannot be compressed.\n",
    "# Generally, it uses the HTTP protocol for communication. It also uses SOAP, REST, and XML-RPC as communication.\t\n",
    "# All Web Services are APIs.\n",
    "# It does not have a complete set of specifications, and sometimes it cannot perform all the functions that can be executed by the WEB API.\t\n",
    "# It uses XML as structured data for exchanging information and communication.\t\n",
    "\n",
    "#web API\n",
    "# Web API is used as an interface between two different applications for communicating with each other.\n",
    "#Data can be compressed.\n",
    "# It may use any means of communication protocols such as HTTP/HTTPS to initiate the interaction between applications.\n",
    "# All APIs are not web service\n",
    "# An API is a complete set of rules and specifications that follow to facilitate the interaction.\n",
    "# It uses XML, JSON or plain data as structured data."
   ]
  },
  {
   "cell_type": "code",
   "execution_count": 7,
   "id": "9a703b62-0d02-46d8-9e57-ddd06381b697",
   "metadata": {},
   "outputs": [],
   "source": [
    "#ANSWER4\n",
    "#REST\n",
    "# REST is a software architectural style that defines the set of rules to be used for creating web services. Web services which follow the REST architectural style are known as RESTful web services. It allows requesting systems to access and manipulate web resources by using a uniform and predefined set of rules.\n",
    "\n",
    "#SOAP\n",
    "#SOAP is a protocol for the exchange of information in a distributed environment. SOAP messages are encoded as XML documents and can be exchanged using various underlying protocols.\n",
    "\n",
    "# #Disadvantages of Soap Web Services\n",
    "# Slow: SOAP uses XML format that must be parsed to be read. It defines many standards that must be followed while developing the SOAP applications. So it is slow and consumes more bandwidth and resource.\n",
    "\n",
    "# WSDL dependent: SOAP uses WSDL and doesn't have any other mechanism to discover the service."
   ]
  },
  {
   "cell_type": "code",
   "execution_count": 8,
   "id": "ab5d3140-86a0-4e38-8cdc-fee471a0b0f2",
   "metadata": {},
   "outputs": [],
   "source": [
    "#ANSWER5"
   ]
  },
  {
   "cell_type": "code",
   "execution_count": 9,
   "id": "71901ca5-95f1-4966-b131-d767d018bde6",
   "metadata": {},
   "outputs": [],
   "source": [
    "#REST\n",
    "\n",
    "#Relies on REST (Representational State Transfer) architecture using HTTP.\n",
    "#Generally transports data in JSON. It is based on URI. Because REST follows stateless model, REST does not enforces message format as XML or JSON etc.\n",
    "#It works with GET, POST, PUT, DELETE\n",
    "#Works over HTTP and HTTPS\n",
    "#Less structured -> less bulky data\n",
    "#Designed with mobile devices in mind\n",
    "\n",
    "#SOAP\n",
    "#Relies on SOAP (Simple Object Access Protocol)\n",
    "#Transports data in standard XML format.\n",
    "#Because it is XML based and relies on SOAP, it works with WSDL\n",
    "#Works over HTTP, HTTPS, SMTP, XMPP\n",
    "#Highly structured/typed\n",
    "#Designed with large enterprise applications in mind\n",
    "\n"
   ]
  },
  {
   "cell_type": "code",
   "execution_count": null,
   "id": "3029fc26-ecec-4573-b0f5-0517053013e6",
   "metadata": {},
   "outputs": [],
   "source": []
  }
 ],
 "metadata": {
  "kernelspec": {
   "display_name": "Python 3 (ipykernel)",
   "language": "python",
   "name": "python3"
  },
  "language_info": {
   "codemirror_mode": {
    "name": "ipython",
    "version": 3
   },
   "file_extension": ".py",
   "mimetype": "text/x-python",
   "name": "python",
   "nbconvert_exporter": "python",
   "pygments_lexer": "ipython3",
   "version": "3.10.8"
  }
 },
 "nbformat": 4,
 "nbformat_minor": 5
}
