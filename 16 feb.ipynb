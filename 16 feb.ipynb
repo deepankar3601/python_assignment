{
 "cells": [
  {
   "cell_type": "code",
   "execution_count": 1,
   "id": "ed91bac5-9993-411c-b09e-8f9c264e041e",
   "metadata": {},
   "outputs": [],
   "source": [
    "#answer1"
   ]
  },
  {
   "cell_type": "code",
   "execution_count": 3,
   "id": "ebade902-abea-4c26-9695-88905d8de709",
   "metadata": {},
   "outputs": [],
   "source": [
    "#A database is an organized collection of structured information, or data, typically stored electronically in a computer system. A database is usually controlled by a database management system (DBMS).\n",
    "#SQL, which stands for “Structured Query Language,” is the programming language that’s been widely used in managing data in relational database management systems (RDBMS) since the 1970s. In the early years, when storage was expensive, SQL databases focused on reducing data duplication.\n",
    "# Fast-forward to today, and SQL is still widely used for querying relational databases, where data is stored in rows and tables that are linked in various ways. One table record may link to one other or to many others, or many table records may be related to many records in another table. These relational databases, which offer fast data storage and recovery, can handle great amounts of data and complex SQL queries.\n",
    "\n",
    "#NoSQL is a non-relational database, meaning it allows different structures than a SQL database (not rows and columns) and more flexibility to use a format that best fits the data. The term “NoSQL” was not coined until the early 2000s. It doesn’t mean the systems don’t use SQL, as NoSQL databases do sometimes support some SQL commands. More accurately, “NoSQL” is sometimes defined as “not only SQL.”"
   ]
  },
  {
   "cell_type": "code",
   "execution_count": 4,
   "id": "01ca2e1a-1000-4d05-ac84-a00188f3c73e",
   "metadata": {},
   "outputs": [],
   "source": [
    "#answer2"
   ]
  },
  {
   "cell_type": "code",
   "execution_count": 5,
   "id": "3c163108-5cca-4245-b7d3-d4def7410f79",
   "metadata": {},
   "outputs": [],
   "source": [
    "#A data definition language (DDL) is a computer language used to create and modify the structure of database objects in a database. These database objects include views, schemas, tables, indexes, etc.\n",
    "# This term is also known as data description language in some contexts, as it describes the fields and records in a database table.\n"
   ]
  },
  {
   "cell_type": "code",
   "execution_count": null,
   "id": "7fed8b45-363a-4bea-ab37-6390e74a4bc2",
   "metadata": {},
   "outputs": [],
   "source": [
    "#CREATE TABLE\n",
    "#he CREATE TABLE command creates a new table in the database.\n",
    "\n",
    "#example\n",
    "\n",
    "\n",
    "\n",
    "CREATE TABLE Persons (\n",
    "    PersonID int,\n",
    "    LastName varchar(255),\n",
    "    FirstName varchar(255),\n",
    "    Address varchar(255),\n",
    "    City varchar(255)\n",
    ");"
   ]
  },
  {
   "cell_type": "code",
   "execution_count": null,
   "id": "582912d5-fa2a-4b49-879c-48100456c5e1",
   "metadata": {},
   "outputs": [],
   "source": [
    "#ALTER TABLE\n",
    "#The ALTER TABLE command adds, deletes, or modifies columns in a table.\n",
    "\n",
    "#The ALTER TABLE command also adds and deletes various constraints in a table.\n",
    "\n",
    "ALTER TABLE Customers\n",
    "ADD Email varchar(255);"
   ]
  },
  {
   "cell_type": "code",
   "execution_count": null,
   "id": "ba99738a-a19b-4e8b-a71e-627cb5fffec6",
   "metadata": {},
   "outputs": [],
   "source": [
    "#DROP TABLE\n",
    "#The DROP TABLE command deletes a table in the database.\n",
    "\n",
    "#The following SQL deletes the table \"Shippers\":\n",
    "\n",
    "DROP TABLE Shippers;"
   ]
  },
  {
   "cell_type": "code",
   "execution_count": null,
   "id": "863f0b6b-ac73-4d94-ab4f-0c866bf4dfd6",
   "metadata": {},
   "outputs": [],
   "source": [
    "#$TRUNCATE TABLE\n",
    "#The TRUNCATE TABLE command deletes the data inside a table, but not the table itself.\n",
    "\n",
    "#The following SQL truncates the table \"Categories\": \n",
    "\n",
    "TRUNCATE TABLE Categories;"
   ]
  },
  {
   "cell_type": "code",
   "execution_count": 7,
   "id": "283de6d0-b254-4906-960c-3dbde0412433",
   "metadata": {},
   "outputs": [],
   "source": [
    "#answer3"
   ]
  },
  {
   "cell_type": "code",
   "execution_count": 8,
   "id": "d9713356-4347-44ea-a1e0-905706647232",
   "metadata": {},
   "outputs": [],
   "source": [
    "#The data manipulation language statements are used to retrieve, add, delete, and modify the data that is stored in the objects of database. The keywords or statements that are associated with the data manipulation language are: SELECT INSERT, UPDATE and DELETE. These are the primary statements of data manipulation language (DML) and are used widely."
   ]
  },
  {
   "cell_type": "code",
   "execution_count": null,
   "id": "5c537a9e-0efb-491b-8a4e-56245f7ff78a",
   "metadata": {},
   "outputs": [],
   "source": [
    "#INSERT Command\n",
    "#To add data to a table the INSERT command is used. The syntax of the INSERT command is given below:\n",
    "\n",
    "INSERT into table-name values (data, data …)"
   ]
  },
  {
   "cell_type": "code",
   "execution_count": null,
   "id": "f884c258-8b49-4755-b5a7-54643a2cef45",
   "metadata": {},
   "outputs": [],
   "source": [
    "#Update Command:\n",
    "#To update a table or row or column in the table we use the update command. The syntax of update command is given below:\n",
    "\n",
    "Update table-name set column-name = value where condition;"
   ]
  },
  {
   "cell_type": "code",
   "execution_count": null,
   "id": "ba50d7cf-7d92-4406-b641-bf7c4cdfd452",
   "metadata": {},
   "outputs": [],
   "source": [
    "# Delete Command\n",
    "# To delete a table row or some data from a table in the database the delete command is used. The syntax of delete command is as follows:\n",
    "\n",
    "DELETE from table-name;"
   ]
  },
  {
   "cell_type": "code",
   "execution_count": 9,
   "id": "37f40bd2-c508-4fe5-89db-cd830c59e4a5",
   "metadata": {},
   "outputs": [],
   "source": [
    "#answer4"
   ]
  },
  {
   "cell_type": "code",
   "execution_count": 10,
   "id": "bc9cfc5e-3dbc-4341-9ab8-f6b22d8847ca",
   "metadata": {},
   "outputs": [],
   "source": [
    "# DQL stands for Data Query Language, which is a subset of SQL used to retrieve data from a database. DQL statements are used to query the database and retrieve specific data based on specified criteria. The most commonly used DQL statement is SELECT.\n",
    "\n",
    "# SELECT is used to retrieve data from one or more tables in a database. It allows you to specify the columns to retrieve, the table or tables to retrieve them from, and any conditions that the retrieved data must meet. Here's an example of a SELECT statement:\n",
    "\n"
   ]
  },
  {
   "cell_type": "code",
   "execution_count": 11,
   "id": "45512d09-a926-46e5-9a4d-f03886ecab14",
   "metadata": {},
   "outputs": [],
   "source": [
    "#answer5"
   ]
  },
  {
   "cell_type": "code",
   "execution_count": 12,
   "id": "b7106881-90b2-49ac-98c1-ea4be8fbe74a",
   "metadata": {},
   "outputs": [],
   "source": [
    "#The FOREIGN KEY constraint is used to prevent actions that would destroy links between tables.\n",
    "\n",
    "# A FOREIGN KEY is a field (or collection of fields) in one table, that refers to the PRIMARY KEY in another table.\n",
    "\n",
    "# The table with the foreign key is called the child table, and the table with the primary key is called the referenced or parent table."
   ]
  },
  {
   "cell_type": "code",
   "execution_count": 13,
   "id": "ab75076c-72bf-4762-9394-9dbda0715b4c",
   "metadata": {},
   "outputs": [],
   "source": [
    "#answer6"
   ]
  },
  {
   "cell_type": "code",
   "execution_count": 17,
   "id": "6b9f9351-c81e-4f2f-8e3f-24a2b3519958",
   "metadata": {},
   "outputs": [],
   "source": [
    "# The MySQLCursor of mysql-connector-python (and similar libraries) is used to execute statements to communicate with the MySQL database.\n",
    "\n",
    "# Using the methods of it you can execute SQL statements, fetch data from the result sets, call procedures.\n",
    "\n",
    "# execute()\n",
    "# This method accepts a MySQL query as a parameter and executes the given query.\n",
    "\n",
    "# cursor()\n",
    "#Allows Python code to execute PostgreSQL command in a database session.\n"
   ]
  },
  {
   "cell_type": "code",
   "execution_count": 19,
   "id": "8d9aa595-24d4-4bb5-b230-7c8848867220",
   "metadata": {},
   "outputs": [
    {
     "name": "stdout",
     "output_type": "stream",
     "text": [
      "Collecting mysql-connector-python\n",
      "  Downloading mysql_connector_python-8.0.32-cp310-cp310-manylinux1_x86_64.whl (23.5 MB)\n",
      "\u001b[2K     \u001b[90m━━━━━━━━━━━━━━━━━━━━━━━━━━━━━━━━━━━━━━━━\u001b[0m \u001b[32m23.5/23.5 MB\u001b[0m \u001b[31m45.6 MB/s\u001b[0m eta \u001b[36m0:00:00\u001b[0m00:01\u001b[0m00:01\u001b[0m\n",
      "\u001b[?25hCollecting protobuf<=3.20.3,>=3.11.0\n",
      "  Downloading protobuf-3.20.3-cp310-cp310-manylinux_2_12_x86_64.manylinux2010_x86_64.whl (1.1 MB)\n",
      "\u001b[2K     \u001b[90m━━━━━━━━━━━━━━━━━━━━━━━━━━━━━━━━━━━━━━━━\u001b[0m \u001b[32m1.1/1.1 MB\u001b[0m \u001b[31m69.5 MB/s\u001b[0m eta \u001b[36m0:00:00\u001b[0m\n",
      "\u001b[?25hInstalling collected packages: protobuf, mysql-connector-python\n",
      "  Attempting uninstall: protobuf\n",
      "    Found existing installation: protobuf 4.21.11\n",
      "    Uninstalling protobuf-4.21.11:\n",
      "      Successfully uninstalled protobuf-4.21.11\n",
      "Successfully installed mysql-connector-python-8.0.32 protobuf-3.20.3\n",
      "Note: you may need to restart the kernel to use updated packages.\n"
     ]
    }
   ],
   "source": [
    "pip install mysql-connector-python"
   ]
  },
  {
   "cell_type": "code",
   "execution_count": 5,
   "id": "76fef742-4498-49ba-af3e-c4aebd103ec2",
   "metadata": {},
   "outputs": [],
   "source": [
    "#answer7"
   ]
  },
  {
   "cell_type": "code",
   "execution_count": 6,
   "id": "874f9e31-d2ac-4179-a535-8816c6f2d10b",
   "metadata": {},
   "outputs": [],
   "source": [
    "# FROM\tTables are joined to get the base data.\n",
    "# \tWHERE\tThe base data is filtered.\n",
    "# \tGROUP BY\tThe filtered base data is grouped.\n",
    "# \tHAVING\tThe grouped base data is filtered.\n",
    "# \tSELECT\tThe final data is returned.\n",
    "# \tORDER BY\tThe final data is sorted.\n",
    "# \tLIMIT\tThe returned data is limited to row count."
   ]
  },
  {
   "cell_type": "code",
   "execution_count": null,
   "id": "8002eceb-f470-4a44-8200-1cb2643a4ea9",
   "metadata": {},
   "outputs": [],
   "source": []
  }
 ],
 "metadata": {
  "kernelspec": {
   "display_name": "Python 3 (ipykernel)",
   "language": "python",
   "name": "python3"
  },
  "language_info": {
   "codemirror_mode": {
    "name": "ipython",
    "version": 3
   },
   "file_extension": ".py",
   "mimetype": "text/x-python",
   "name": "python",
   "nbconvert_exporter": "python",
   "pygments_lexer": "ipython3",
   "version": "3.10.8"
  }
 },
 "nbformat": 4,
 "nbformat_minor": 5
}
