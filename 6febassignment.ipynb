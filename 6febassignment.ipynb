{
 "cells": [
  {
   "cell_type": "code",
   "execution_count": 18,
   "id": "ce959f07-9db1-42db-ac54-88021ee5ebe7",
   "metadata": {},
   "outputs": [],
   "source": [
    "#answer1"
   ]
  },
  {
   "cell_type": "code",
   "execution_count": 19,
   "id": "c711db16-2216-48de-ad3e-1a3c8aafea52",
   "metadata": {},
   "outputs": [
    {
     "name": "stdout",
     "output_type": "stream",
     "text": [
      "2315262738624675840\n"
     ]
    }
   ],
   "source": [
    "list1 = [1,2,3,4, [44,55,66, True], False, (34,56,78,89,34), {1,2,3,3,2,1}, {1:34, \"key2\": [55, 67, 78, 89], 4: (45, 22, 61, 34)}, [56, 'data science'], 'Machine Learning']\n",
    "print(multiplicationofnumber(list1))\n",
    "\n",
    "def multiplicationofnumber(list1):\n",
    "    flatlist = []\n",
    "    def flatten(list1):\n",
    "        for i in list1:\n",
    "            if type (i) == list or type(i) == tuple or type(i) == set or type(i) == dict:\n",
    "                flatten(i)\n",
    "            elif type(i) == int or type(i) == float:\n",
    "                flatlist.append(i)\n",
    "        \n",
    "    flatten(list1)\n",
    "    product=1\n",
    "    for num in flatlist:\n",
    "        product *= num\n",
    "    return product    \n"
   ]
  },
  {
   "cell_type": "code",
   "execution_count": 20,
   "id": "389c6776-1b75-4fd1-b197-aa26351b4f67",
   "metadata": {},
   "outputs": [],
   "source": [
    "#answer2"
   ]
  },
  {
   "cell_type": "code",
   "execution_count": 22,
   "id": "2249b8f4-310b-4ddf-9ca5-071022da27e8",
   "metadata": {},
   "outputs": [],
   "source": [
    "#Input Sentence: I want to become a Data Scientist."
   ]
  },
  {
   "cell_type": "code",
   "execution_count": 39,
   "id": "feb89759-3d54-4343-b56e-a0848f2ff7d8",
   "metadata": {},
   "outputs": [
    {
     "name": "stdin",
     "output_type": "stream",
     "text": [
      " i want to become a data scientist\n"
     ]
    },
    {
     "name": "stdout",
     "output_type": "stream",
     "text": [
      "encrypted_message : r$dzmg$gl$yvxlnv$z$wzgz$hxrvmgrhg\n"
     ]
    }
   ],
   "source": [
    "def encrypted(msg):\n",
    "    \n",
    "    #map every letter to its encrypted form\n",
    "    mapping = {'a': 'z', 'b': 'y', 'c': 'x', 'd': 'w', 'e': 'v', 'f': 'u', 'g': 't', 'h': 's', 'i': 'r', 'j': 'q',\n",
    "               'k': 'p', 'l': 'o', 'm': 'n', 'n': 'm', 'o': 'l', 'p': 'k', 'q': 'j', 'r': 'i', 's': 'h', 't': 'g',\n",
    "               'u': 'f', 'v': 'e', 'w': 'd', 'x': 'c', 'y': 'b', 'z': 'a', ' ': '$'}\n",
    "    \n",
    "    encrypted_message = \"\"\n",
    "    for alphabet in msg:\n",
    "        if alphabet in mapping:\n",
    "            encrypted_message += mapping[alphabet]\n",
    "        else:\n",
    "            encrypted_message += alphabet\n",
    "            \n",
    "    return encrypted_message\n",
    "\n",
    "msg = input()\n",
    "encrypted_message = encrypted(msg)\n",
    "print(\"encrypted_message :\" , encrypted_message)             \n",
    "    "
   ]
  },
  {
   "cell_type": "code",
   "execution_count": null,
   "id": "5ba40e7e-be92-4bc1-9f59-54cc50265687",
   "metadata": {},
   "outputs": [],
   "source": []
  }
 ],
 "metadata": {
  "kernelspec": {
   "display_name": "Python 3 (ipykernel)",
   "language": "python",
   "name": "python3"
  },
  "language_info": {
   "codemirror_mode": {
    "name": "ipython",
    "version": 3
   },
   "file_extension": ".py",
   "mimetype": "text/x-python",
   "name": "python",
   "nbconvert_exporter": "python",
   "pygments_lexer": "ipython3",
   "version": "3.10.8"
  }
 },
 "nbformat": 4,
 "nbformat_minor": 5
}
