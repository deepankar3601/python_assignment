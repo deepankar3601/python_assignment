{
 "cells": [
  {
   "cell_type": "code",
   "execution_count": null,
   "id": "560c5ea3-6bef-4b27-acfb-5bf189012c42",
   "metadata": {},
   "outputs": [],
   "source": [
    "answer1 = Guido Van Rossum developed the python programming language and was first released on february 20 1991."
   ]
  },
  {
   "cell_type": "code",
   "execution_count": null,
   "id": "d78d9d4e-9f69-4114-ab32-acfc07c05f60",
   "metadata": {},
   "outputs": [],
   "source": [
    "answer2 = Python is a multi-paradigm programming language. Object-oriented programming and structured programming are fully supported, and many of their features support functional programming and aspect-oriented programming (including metaprogramming and metaobjects)."
   ]
  },
  {
   "cell_type": "code",
   "execution_count": null,
   "id": "48e0f639-ffc2-4a66-96f3-fca20b771fb6",
   "metadata": {},
   "outputs": [],
   "source": [
    "answer 3= yes it is case sensitive when dealing with identifiers. it treats uppercase and lowercase characters differently."
   ]
  },
  {
   "cell_type": "code",
   "execution_count": null,
   "id": "3f91fe10-8be9-4909-a498-861752693ba0",
   "metadata": {},
   "outputs": [],
   "source": [
    "answer 4 = .py is the correct extension of python file"
   ]
  },
  {
   "cell_type": "code",
   "execution_count": null,
   "id": "eab66b7c-2f7d-4e06-a92c-e0955ccce903",
   "metadata": {},
   "outputs": [],
   "source": [
    "answer 5 = python is an interpreted language."
   ]
  },
  {
   "cell_type": "code",
   "execution_count": null,
   "id": "763c280a-9431-4201-b17d-d21de70b4ced",
   "metadata": {},
   "outputs": [],
   "source": [
    "answer 6 = Indentation is used to define a block of code in python."
   ]
  },
  {
   "cell_type": "code",
   "execution_count": null,
   "id": "d099c14d-a383-4516-a72f-7df52e0086e9",
   "metadata": {},
   "outputs": [],
   "source": [
    "answer 7 = #"
   ]
  },
  {
   "cell_type": "code",
   "execution_count": null,
   "id": "a9c9b346-0235-4c9b-9723-460cd3a67d35",
   "metadata": {},
   "outputs": [],
   "source": [
    "answer 8 - sys.version"
   ]
  },
  {
   "cell_type": "code",
   "execution_count": null,
   "id": "9468b90f-7219-4bc4-a0a9-58707497cd04",
   "metadata": {},
   "outputs": [],
   "source": [
    "answer 9 =lambda"
   ]
  },
  {
   "cell_type": "code",
   "execution_count": null,
   "id": "de0a4abb-489d-4586-a4b8-bc053ca4df7d",
   "metadata": {},
   "outputs": [],
   "source": [
    "answer 10 = pip install packages"
   ]
  },
  {
   "cell_type": "code",
   "execution_count": null,
   "id": "1c5f2ca8-1c78-4cc6-ac1b-cfa11ad210e2",
   "metadata": {},
   "outputs": [],
   "source": [
    "answer 11 = dict()\n",
    "            len()\n",
    "            input()\n",
    "            print()        "
   ]
  },
  {
   "cell_type": "code",
   "execution_count": null,
   "id": "45f5cd58-5161-4a85-bff6-285685248567",
   "metadata": {},
   "outputs": [],
   "source": [
    "answer 12 = 79 characters"
   ]
  },
  {
   "cell_type": "code",
   "execution_count": null,
   "id": "46aff302-461d-4949-af9a-8f7c4565b7f7",
   "metadata": {},
   "outputs": [],
   "source": [
    "answer13 = benefits of learning python\n",
    "Data science\n",
    "Scientific and mathematical computing\n",
    "Web development\n",
    "Finance and trading\n",
    "System automation and administration\n",
    "Computer graphics\n",
    "Basic game development\n",
    "Security and penetration testing\n",
    "General and application-specific scripting\n",
    "Mapping and geography (GIS software)"
   ]
  },
  {
   "cell_type": "code",
   "execution_count": null,
   "id": "f16953ce-d7bd-428e-8d5b-ac0712f5778c",
   "metadata": {},
   "outputs": [],
   "source": [
    "answer 14 = Memory management in Python involves a private heap containing all Python objects and data structures. The management of this private heap is ensured internally by the Python memory manager."
   ]
  },
  {
   "cell_type": "code",
   "execution_count": null,
   "id": "51023f52-4eba-4904-8f97-fd12f1631808",
   "metadata": {},
   "outputs": [],
   "source": [
    "answer 15 = Open a browser to the Python website and download the Windows installer. 2. Double click on the downloaded file and install Python for all users, and ensure that Python is added to your path. Click on Install now to begin"
   ]
  },
  {
   "cell_type": "code",
   "execution_count": null,
   "id": "789cce33-af43-4359-83af-cc3c0ad5ee94",
   "metadata": {},
   "outputs": [],
   "source": [
    "answer 16 = Indentation refers to the spaces at the beginning of a code line.\n",
    "\n",
    "Where in other programming languages the indentation in code is for readability only, the indentation in Python is very important.\n",
    "\n",
    "Python uses indentation to indicate a block of code."
   ]
  }
 ],
 "metadata": {
  "kernelspec": {
   "display_name": "Python 3 (ipykernel)",
   "language": "python",
   "name": "python3"
  },
  "language_info": {
   "codemirror_mode": {
    "name": "ipython",
    "version": 3
   },
   "file_extension": ".py",
   "mimetype": "text/x-python",
   "name": "python",
   "nbconvert_exporter": "python",
   "pygments_lexer": "ipython3",
   "version": "3.10.8"
  }
 },
 "nbformat": 4,
 "nbformat_minor": 5
}
