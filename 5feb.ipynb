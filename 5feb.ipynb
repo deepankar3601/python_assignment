{
 "cells": [
  {
   "cell_type": "code",
   "execution_count": 1,
   "id": "4aaa7f45-6c99-4bc5-be9f-6cc66a7d72ea",
   "metadata": {},
   "outputs": [],
   "source": [
    "#ANSWER1\n"
   ]
  },
  {
   "cell_type": "code",
   "execution_count": 3,
   "id": "12f45bb5-c7d8-4be2-9481-ad1c23bfbb3a",
   "metadata": {},
   "outputs": [],
   "source": [
    "#Classes are user-defined data types that act as the blueprint for individual objects, attributes and methods.\n",
    "#Objects are instances of a class created with specifically defined data. Objects can correspond to real-world objects or an abstract entity. When class is defined initially, the description is the only object that is defined."
   ]
  },
  {
   "cell_type": "code",
   "execution_count": 5,
   "id": "1c7a49c7-cf9f-484c-9e41-375124ccdaec",
   "metadata": {},
   "outputs": [],
   "source": [
    "#ANSWER2"
   ]
  },
  {
   "cell_type": "code",
   "execution_count": 6,
   "id": "ace3a2cf-d2ec-4dd0-9541-e171bd67ea5f",
   "metadata": {},
   "outputs": [],
   "source": [
    "\n",
    "\n",
    "#\"Encapsulation. This principle states that all important information is contained inside an object and only select information is exposed. The implementation and state of each object are privately held inside a defined class. Other objects do not have access to this class or the authority to make changes. They are only able to call a list of public functions or methods. This characteristic of data hiding provides greater program security and avoids unintended data corruption.\n",
    "#Abstraction. Objects only reveal internal mechanisms that are relevant for the use of other objects, hiding any unnecessary implementation code. The derived class can have its functionality extended. This concept can help developers more easily make additional changes or additions over time.\n",
    "#Inheritance. Classes can reuse code from other classes. Relationships and subclasses between objects can be assigned, enabling developers to reuse common logic while still maintaining a unique hierarchy. This property of OOP forces a more thorough data analysis, reduces development time and ensures a higher level of accuracy.\n",
    "#Polymorphism. Objects are designed to share behaviors and they can take on more than one form. The program will determine which meaning or usage is necessary for each execution of that object from a parent class, reducing the need to duplicate code. A child class is then created, which extends the functionality of the parent class. Polymorphism allows different types of objects to pass through the same interface."
   ]
  },
  {
   "cell_type": "code",
   "execution_count": 7,
   "id": "0348fe98-fb9c-45da-a04b-9e74e764a2c1",
   "metadata": {},
   "outputs": [],
   "source": [
    "#ANSWER3"
   ]
  },
  {
   "cell_type": "code",
   "execution_count": 8,
   "id": "acdcdb12-a88e-409b-81a0-64fb8e0fb641",
   "metadata": {},
   "outputs": [],
   "source": [
    "#The __init__ function is called every time an object is created from a class. The __init__ method lets the class initialize the object's attributes and serves no other purpose. It is only used within classes"
   ]
  },
  {
   "cell_type": "code",
   "execution_count": 11,
   "id": "be354992-e418-4644-b219-c335887a24ca",
   "metadata": {},
   "outputs": [],
   "source": [
    "#EXAMPLE\n",
    "\n",
    "class laptop:\n",
    "    \n",
    "    def __init__(self,processor,ram,company):\n",
    "        self.processor = processor\n",
    "        self.ram = ram\n",
    "        self.company = company \n",
    "        \n",
    "    def return_laptop_details(self):\n",
    "        return self.processor,self.ram,self.company\n",
    "        "
   ]
  },
  {
   "cell_type": "code",
   "execution_count": 13,
   "id": "5cc1ca8f-74a5-4e0e-a29b-76218d4f8a48",
   "metadata": {},
   "outputs": [],
   "source": [
    "deepankar = laptop('i5','8_gb','lenovo')"
   ]
  },
  {
   "cell_type": "code",
   "execution_count": 14,
   "id": "c62bfa3a-246b-4879-b087-7e87e4be6a3e",
   "metadata": {},
   "outputs": [
    {
     "data": {
      "text/plain": [
       "('i5', '8_gb', 'lenovo')"
      ]
     },
     "execution_count": 14,
     "metadata": {},
     "output_type": "execute_result"
    }
   ],
   "source": [
    "deepankar.return_laptop_details()"
   ]
  },
  {
   "cell_type": "code",
   "execution_count": 16,
   "id": "42d29a07-d79c-4a33-baeb-eeb7031c2771",
   "metadata": {},
   "outputs": [],
   "source": [
    "#ANSWER4\n"
   ]
  },
  {
   "cell_type": "code",
   "execution_count": 17,
   "id": "3c2a017e-0fd3-4189-a0c0-309b1e2dfed0",
   "metadata": {},
   "outputs": [],
   "source": [
    "#self represents the instance of the class. By using the “self”  we can access the attributes and methods of the class in python. It binds the attributes with the given arguments.\n",
    "\n",
    "#The reason you need to use self. is because Python does not use the @ syntax to refer to instance attributes. Python decided to do methods in a way that makes the instance to which the method belongs be passed automatically, but not received automatically: the first parameter of methods is the instance the method is called on."
   ]
  },
  {
   "cell_type": "code",
   "execution_count": 18,
   "id": "50a4f5c7-9218-40e4-b6b8-448aba3b6a54",
   "metadata": {},
   "outputs": [],
   "source": [
    "#ANSWER5"
   ]
  },
  {
   "cell_type": "code",
   "execution_count": null,
   "id": "852cd646-e5dc-4516-a43d-0ea3a503e63a",
   "metadata": {},
   "outputs": [],
   "source": [
    "#Inheritance is a process of obtaining properties and characteristics(variables and methods) of another class. In this hierarchical order, the class which inherits another class is called subclass or child class, and the other class is the parent class.\n",
    "\n",
    "#Inheritance is categorized based on the hierarchy followed and the number of parent classes and subclasses involved.\n",
    "\n",
    "#here are five types of inheritances:\n",
    "\n",
    "Single Inheritance\n",
    "Multiple Inheritance\n",
    "Multilevel Inheritance\n",
    "Hierarchical Inheritance\n",
    "Hybrid Inheritance"
   ]
  }
 ],
 "metadata": {
  "kernelspec": {
   "display_name": "Python 3 (ipykernel)",
   "language": "python",
   "name": "python3"
  },
  "language_info": {
   "codemirror_mode": {
    "name": "ipython",
    "version": 3
   },
   "file_extension": ".py",
   "mimetype": "text/x-python",
   "name": "python",
   "nbconvert_exporter": "python",
   "pygments_lexer": "ipython3",
   "version": "3.10.8"
  }
 },
 "nbformat": 4,
 "nbformat_minor": 5
}
