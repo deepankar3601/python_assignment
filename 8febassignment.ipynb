{
 "cells": [
  {
   "cell_type": "code",
   "execution_count": null,
   "id": "8e3e4dfb-7c6f-479b-b640-bace795f26da",
   "metadata": {},
   "outputs": [],
   "source": [
    "#answer 1"
   ]
  },
  {
   "cell_type": "code",
   "execution_count": null,
   "id": "cd5b00cb-5a71-4b2d-aca9-70cf009e4146",
   "metadata": {},
   "outputs": [],
   "source": [
    "#Abstraction in python is defined as a process of handling complexity by hiding unnecessary information from the user. This is one of the core concepts of object-oriented programming (OOP) languages. That enables the user to implement even more complex logic on top of the provided abstraction without understanding or even thinking about all the hidden background/back-end complexity.\n",
    "\n",
    "#ex- In simple words, we all use the smartphone and very much familiar with its functions such as camera, voice-recorder, call-dialing, etc., but we don't know how these operations are happening in the background. \n"
   ]
  },
  {
   "cell_type": "code",
   "execution_count": null,
   "id": "3481bcd8-8700-4daf-838f-ed78c1b9bda0",
   "metadata": {},
   "outputs": [],
   "source": [
    "#answer2"
   ]
  },
  {
   "cell_type": "code",
   "execution_count": 9,
   "id": "df3352bc-a57c-402f-97d3-ec19d4bc8708",
   "metadata": {},
   "outputs": [],
   "source": [
    "# Definition\n",
    "# Abstraction is hiding the details and implementation of the code.\n",
    "# Encapsulation is hiding the data and controlling the visibility of the code.\n",
    "# Phase\n",
    "# Abstraction is a design level process.\n",
    "# Encapsulation is an implementation level process.\n",
    "# Pivotal Ability\n",
    "# Abstraction is concerned about what a class instance can do, instead of the implementation of the class.\n",
    "# Encapsulation helps in data binding and control over maintaining the transparency of the data.\n",
    "# Use Case\n",
    "# Abstraction is a design level process and it is used to reduce the complexity at the designing stage of a project.\n",
    "# Encapsulation is an implementation level process, and it is used to provide privacy and maintain control over the transparency of data at the implementation stage of a project."
   ]
  },
  {
   "cell_type": "code",
   "execution_count": null,
   "id": "b4525f81-b969-4237-b923-97ee8e8cbedb",
   "metadata": {},
   "outputs": [],
   "source": [
    "# Example:        \n",
    "\n",
    "# You can better understand Encapsulation vs Abstraction with an example. Abstraction is used in mobile phones’ GUI. When you click on the icons, abstraction allows them to perform specific functions. Let’s look at the encapsulation example to clarify the Encapsulation vs Abstraction. After the icon is clicked, the encapsulation works in the backend to guide the user on the next steps."
   ]
  },
  {
   "cell_type": "code",
   "execution_count": null,
   "id": "9615b84b-c741-4fb9-8f9b-e6fdc152c70d",
   "metadata": {},
   "outputs": [],
   "source": [
    "#answr3"
   ]
  },
  {
   "cell_type": "code",
   "execution_count": 10,
   "id": "893f389f-918d-4de2-8e3a-8914e833285e",
   "metadata": {},
   "outputs": [],
   "source": [
    "# Abstract base classes provide a way to define interfaces when other techniques like hasattr() would be clumsy or subtly wrong (for example with magic methods). ABCs introduce virtual subclasses, which are classes that don’t inherit from a class but are still recognized by isinstance() and issubclass() functions. There are many built-in ABCs in Python. ABCs for Data structures like Iterator, Generator, Set, mapping etc. are defined in collections.abc module. The numbers module defines numeric tower which is a collection of base classes for numeric data types. The 'abc' module in Python library provides the infrastructure for defining custom abstract base classes.\n",
    "# 'abc' works by marking methods of the base class as abstract. This is done by @absttractmethod decorator. A concrete class which is a sub class of such abstract base class then implements the abstract base by overriding its abstract methods."
   ]
  },
  {
   "cell_type": "code",
   "execution_count": null,
   "id": "1ccca7cc-2f5b-4cd0-814d-cc015e87835d",
   "metadata": {},
   "outputs": [],
   "source": [
    "#answer4"
   ]
  },
  {
   "cell_type": "code",
   "execution_count": 11,
   "id": "106beaad-345b-48bb-8990-e8a590ac6cdc",
   "metadata": {},
   "outputs": [],
   "source": [
    "# In Python, abstraction can be achieved by having/using abstract classes and methods in our programs.\n",
    "\n",
    "# Understanding Abstract Methods and Classes:\n",
    "\n",
    "#          An abstract method is a method that is declared, but does not contain implementation. An abstract method in a base class identifies the functionality that should be implemented by all its subclasses. However, since the implementation of an abstract method would differ from one subclass to another, often the method body comprises just a pass statement. Every subclass of the base class will ride this method with its implementation. A class containing abstract methods is called abstract class.Python provides the abc module to use the abstraction in the Python program, syntax as:\n",
    "\n",
    "# 1\n",
    "# 2\n",
    "# from abc import ABC,   \n",
    "# class ClassName(ABC):\n",
    "\n",
    "# Understanding Working program:\n",
    "\n",
    "# To use Python Abstract Base Classes (ABCs), one needs to import ABCMeta and abstractmethod from the abc module. For example,let us examine the class Shape and its subclasses Rectangle and Circle defined in the script shape . Each of the subclasses Rectangle and Circle needs methods for computing area and perimeter. However, the procedure for computing area and perimeter would differ for Rectangle and Circle. Therefore, we define the classes Rectangle and Circle as subclasses of the class Shape. We define methods area and perimeter as abstract methods in the class Shape. The subclasses Rectangle and Circle override the methods area and perimeter by defining their implementation as shown in the program. If the subclasses Rectangle and Circle fail to override any of the methods area or perimeter, Python will yield a TypeError while instantiating them."
   ]
  },
  {
   "cell_type": "code",
   "execution_count": null,
   "id": "5210bfc3-988c-4bc8-ab5e-4b71a101dcc8",
   "metadata": {},
   "outputs": [],
   "source": [
    "# answer 5"
   ]
  },
  {
   "cell_type": "code",
   "execution_count": null,
   "id": "dfaf5b7f-a5e5-47a2-b3f9-616350535702",
   "metadata": {},
   "outputs": [],
   "source": [
    "#Abstract classes cannot be instantiated, but they can be subclassed. When an abstract class is subclassed, the subclass usually provides implementations for all of the abstract methods in its parent class. However, if it does not, then the subclass must also be declared abstract ."
   ]
  },
  {
   "cell_type": "code",
   "execution_count": null,
   "id": "0739f20f-ad85-4b38-b905-7e31cb02a6da",
   "metadata": {},
   "outputs": [],
   "source": []
  }
 ],
 "metadata": {
  "kernelspec": {
   "display_name": "Python 3 (ipykernel)",
   "language": "python",
   "name": "python3"
  },
  "language_info": {
   "codemirror_mode": {
    "name": "ipython",
    "version": 3
   },
   "file_extension": ".py",
   "mimetype": "text/x-python",
   "name": "python",
   "nbconvert_exporter": "python",
   "pygments_lexer": "ipython3",
   "version": "3.10.8"
  }
 },
 "nbformat": 4,
 "nbformat_minor": 5
}
